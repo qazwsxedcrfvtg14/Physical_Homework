{
 "cells": [
  {
   "cell_type": "markdown",
   "metadata": {},
   "source": [
    "#  A Space Voyage: Part 2\n",
    "\n",
    "## Objective\n",
    "\n",
    "In this activity you will model the motion of a spacecraft traveling from the Earth to the Moon.  You'll start with the program you wrote in a previous activity to model the interaction of a spacecraft with the Earth.  To simplify the model, we'll assume that the Earth and the Moon remain fixed in position, and only the spacecraft moves.  Before doing this activity you should have read Section 3.6 of the *Matter and Interactions, 4e* textbook, which discusses the structure of a computational model that includes the gravitational force; you should also have completed *A Space Voyage: Part 1*.  \n",
    "\n",
    "After completing this activity you should be able to:\n",
    "\n",
    "* Write a program to model the motion of three or more gravitationally interacting objects\n",
    "* By varying initial speed, generate several very different spacecraft trajectories\n",
    "* Discuss the issue of sensitivity to initial conditions\n",
    "\n",
    "\n",
    "*This notebook is adopted from the Lab VP06 materials from Matter & Interactions 4e* \n",
    "\n",
    "Reference: [Jupyter VPython Documentation](http://www.glowscript.org/docs/VPythonDocs/index.html)\n"
   ]
  },
  {
   "cell_type": "markdown",
   "metadata": {},
   "source": [
    "## Including the Effect of the Moon\n",
    "\n",
    "In *Space Voyage: Part 1* you wrote a program to model the behavior of a $1.5\\times 10^4$kg spacecraft that was initially launched from a location 10 Earth radii to the left of the Earth.  Starting with this program:\n",
    "\n",
    "* Add a sphere representing the Moon.  The Moon's mass is $7\\times 10^{22}$kg and its radius is $1.75\\times 10^6$m.  The center to center distance between the Earth and the Moon is $4\\times 10^{8}$m.  In your program, place the Moon on the $x$ axis, to the right of the Earth.   \n",
    "* Modify your program to include the effect of the Moon on the spacecraft.  Think carefully about the changes you must make to do this.  To simplify the model, assume that both the Earth and the Moon are fixed in position.\n",
    "* Lengthen the time your loop will run to 60 days or more, in order to be able to follow more complex orbits.\n",
    "* Use an initial velocity of $\\langle 0, 2\\times 10^3 ,0\\rangle$m/s, and a time step of 10s. To make the program run faster you can increase to `rate(1e4)`. What do you see when you run your program?  \n",
    "\n",
    "![](Earth-Moon-craft-S2006.jpg)"
   ]
  },
  {
   "cell_type": "code",
   "execution_count": null,
   "metadata": {
    "collapsed": false
   },
   "outputs": [
    {
     "data": {
      "application/javascript": [
       "require.undef(\"nbextensions/jquery-ui.custom.min\");"
      ],
      "text/plain": [
       "<IPython.core.display.Javascript object>"
      ]
     },
     "metadata": {},
     "output_type": "display_data"
    },
    {
     "data": {
      "application/javascript": [
       "require.undef(\"nbextensions/glow.2.1a.min\");"
      ],
      "text/plain": [
       "<IPython.core.display.Javascript object>"
      ]
     },
     "metadata": {},
     "output_type": "display_data"
    },
    {
     "data": {
      "application/javascript": [
       "require.undef(\"nbextensions/glow.2.1b.min\");"
      ],
      "text/plain": [
       "<IPython.core.display.Javascript object>"
      ]
     },
     "metadata": {},
     "output_type": "display_data"
    },
    {
     "data": {
      "application/javascript": [
       "require.undef(\"nbextensions/glowcomm\");"
      ],
      "text/plain": [
       "<IPython.core.display.Javascript object>"
      ]
     },
     "metadata": {},
     "output_type": "display_data"
    },
    {
     "data": {
      "application/javascript": [
       "require([\"nbextensions/glowcomm\"], function(){console.log(\"glowcomm loaded\");})"
      ],
      "text/plain": [
       "<IPython.core.display.Javascript object>"
      ]
     },
     "metadata": {},
     "output_type": "display_data"
    },
    {
     "data": {
      "text/html": [
       "<div id=\"glowscript\" class=\"glowscript\"></div>"
      ],
      "text/plain": [
       "<IPython.core.display.HTML object>"
      ]
     },
     "metadata": {},
     "output_type": "display_data"
    },
    {
     "data": {
      "application/javascript": [
       "window.__context = { glowscript_container: $(\"#glowscript\").removeAttr(\"id\")}"
      ],
      "text/plain": [
       "<IPython.core.display.Javascript object>"
      ]
     },
     "metadata": {},
     "output_type": "display_data"
    }
   ],
   "source": [
    "from vpython import *\n",
    "scene.width = 1200\n",
    "scene.height = 800\n",
    "G = 6.7e-11\n",
    "mEarth = 6e24\n",
    "mcraft = 15e3\n",
    "mMoon = 7e22\n",
    "deltat = 30\n",
    "\n",
    "Earth = sphere(pos=vector(0,0,0), radius=6.4e6, color=color.cyan)\n",
    "craft = sphere(pos=vector(-10*Earth.radius, 0,0), radius=1e6,\n",
    "               color=color.yellow, make_trail=True)\n",
    "Moon = sphere(pos=vector(4e8,0,0), radius=1.75e6, color=color.white)\n",
    "vcraft = vector(0,3.2735e3,0)\n",
    "#pcraft = mcraft*vcraft\n",
    "t = 0\n",
    "scene.autoscale = False ##turn off automatic camera zoom\n",
    "scene.center = (Earth.pos + Moon.pos)/2\n",
    "while t < 10*365*24*60*60*60:\n",
    "    rate(1000)     \n",
    "    r=craft.pos-Earth.pos\n",
    "    f_grav=-G*mEarth*mcraft/r.mag2*r.norm()\n",
    "    vcraft+=f_grav/mcraft*deltat\n",
    "    r=craft.pos-Moon.pos\n",
    "    f_grav=-G*mMoon*mcraft/r.mag2*r.norm()\n",
    "    vcraft+=f_grav/mcraft*deltat\n",
    "    craft.pos += vcraft*deltat\n",
    "    t = t+deltat"
   ]
  },
  {
   "cell_type": "markdown",
   "metadata": {},
   "source": [
    "## Optional: Re-aiming the Camera\n",
    "\n",
    "If you would like to center the scene better in the window, you can insert the following line just before the loop.  This line tells the camera to point at a location midway between the Earth and the Moon:\n",
    "```\n",
    "scene.center = (Earth.pos + Moon.pos)/2\n",
    "```"
   ]
  },
  {
   "cell_type": "markdown",
   "metadata": {},
   "source": [
    "## STOP! Ask a TA to check your progress"
   ]
  },
  {
   "cell_type": "markdown",
   "metadata": {},
   "source": [
    "## Exploring Complex Trajectories\n",
    "* Add a check to stop the program if the spacecraft crashes on the Moon (your program should already include a check for a collision with the Earth).\n",
    "* Find initial speeds that produce the following trajectories.  Record each one as a comment in your program:\n",
    "    * An initial speed that leads to crashing on the Moon.\n",
    "    * An initial speed that leads to an elliptical orbit around both the Earth and the Moon. \n",
    "    * An initial speed that yields a *figure-8* orbit that loops around the Moon before returning to Earth.\n",
    "    * An initial speed that produces a different, interesting orbit. \n",
    "* How sensitive are these initial velocities?  What range of initial speeds still produce a figure-8 orbit? \n",
    "\n",
    "\n",
    "<img src=\"Figure8.jpg\" alt=\"\" style=\"width:200px\">\n"
   ]
  },
  {
   "cell_type": "markdown",
   "metadata": {},
   "source": [
    "## An Interesting Trajectory\n",
    "\n",
    "* Give the spacecraft an initial velocity of $\\langle 0,3.27\\times 10^{3},0\\rangle$m/s. What happens?\n",
    "* Thinking iteratively, can you see why the spacecraft retraces its path after it comes to a stop? "
   ]
  },
  {
   "cell_type": "markdown",
   "metadata": {},
   "source": [
    "## STOP! Ask a TA to check your progress"
   ]
  },
  {
   "cell_type": "markdown",
   "metadata": {},
   "source": [
    "## Accuracy\n",
    "\n",
    "n computational modeling there is a tradeoff between accuracy and speed. Using a large value for the time step $\\Delta t$ can be convenient because the program runs faster. However, calculations using a large $\\Delta t$ are less accurate.  How accurate is accurate enough?\n",
    "\n",
    "A simple test of accuracy is to decrease $\\Delta t$ and compare the trajectory you see with the one you saw at a larger value of $\\Delta t$.  If the path doesn't change shape, then the larger value was good enough.\n",
    "\n",
    "\n",
    "* You've been using a step size of 10 seconds. Try a step size one-fifth as large (2 seconds). With an initial speed of 3.27 km/s, is the orbit the same?\n",
    "* Does the 10 second step size give an accurate orbit? How do you know?\n",
    "* Try setting $\\Delta t$ to 1000 seconds. Does the orbit change?\n",
    "* Explain why a very large step size produces an inaccurate orbit.\n"
   ]
  }
 ],
 "metadata": {
  "kernelspec": {
   "display_name": "VPython",
   "language": "python",
   "name": "vpython"
  },
  "language_info": {
   "codemirror_mode": {
    "name": "ipython",
    "version": 2
   },
   "file_extension": ".py",
   "mimetype": "text/x-python",
   "name": "python",
   "nbconvert_exporter": "python",
   "pygments_lexer": "ipython2",
   "version": "2.7.12"
  }
 },
 "nbformat": 4,
 "nbformat_minor": 1
}
