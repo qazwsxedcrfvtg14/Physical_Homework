{
 "cells": [
  {
   "cell_type": "markdown",
   "metadata": {},
   "source": [
    "# Computer Homework 3\n",
    "\n",
    "## Simulation of a ball-spring system\n",
    "\n",
    "The objective of this computer homework is to learn how to simulate the motion of a ball-spring system consisting of two balls and three springs. \n",
    "\n",
    "### Python data structures and statements covered in this HW\n",
    "\n",
    "* Data Structure:\n",
    "    * `tuple`,`list`\n",
    "* Statement:\n",
    "    * `for`\n",
    "    \n",
    "### VPython features covered in this HW\n",
    "\n",
    "* `Graph`\n",
    "\n",
    "References: \n",
    "* [Jupyter VPython Documentation](http://www.glowscript.org/docs/VPythonDocs/index.html)\n",
    "* [Think Python: How to Think Like a Computer Scientist](http://greenteapress.com/thinkpython2/html/index.html)\n",
    "           \n",
    "\n"
   ]
  },
  {
   "cell_type": "markdown",
   "metadata": {},
   "source": [
    "<a id='prob1'></a>\n",
    "## Problem 1\n",
    "On a space station in outer space a 3 kg mass and two identical springs of relaxed length 14 m and stiffness 50 N/m is supended between two walls, as shown in the figure. \n",
    "![](Fig1.jpg)"
   ]
  },
  {
   "cell_type": "code",
   "execution_count": 1,
   "metadata": {
    "collapsed": false,
    "scrolled": true
   },
   "outputs": [
    {
     "data": {
      "application/javascript": [
       "require.undef(\"nbextensions/vpython_libraries/jquery-ui.custom.min\");"
      ],
      "text/plain": [
       "<IPython.core.display.Javascript object>"
      ]
     },
     "metadata": {},
     "output_type": "display_data"
    },
    {
     "data": {
      "application/javascript": [
       "require.undef(\"nbextensions/vpython_libraries/glow.2.1.min\");"
      ],
      "text/plain": [
       "<IPython.core.display.Javascript object>"
      ]
     },
     "metadata": {},
     "output_type": "display_data"
    },
    {
     "data": {
      "application/javascript": [
       "require.undef(\"nbextensions/vpython_libraries/glowcomm\");"
      ],
      "text/plain": [
       "<IPython.core.display.Javascript object>"
      ]
     },
     "metadata": {},
     "output_type": "display_data"
    },
    {
     "data": {
      "application/javascript": [
       "require([\"nbextensions/vpython_libraries/jquery-ui.custom.min\"], function(){console.log(\"JQUERY LOADED\");})"
      ],
      "text/plain": [
       "<IPython.core.display.Javascript object>"
      ]
     },
     "metadata": {},
     "output_type": "display_data"
    },
    {
     "data": {
      "application/javascript": [
       "require([\"nbextensions/vpython_libraries/glow.2.1.min\"], function(){console.log(\"GLOW LOADED\");})"
      ],
      "text/plain": [
       "<IPython.core.display.Javascript object>"
      ]
     },
     "metadata": {},
     "output_type": "display_data"
    },
    {
     "data": {
      "application/javascript": [
       "require([\"nbextensions/vpython_libraries/glowcomm\"], function(){console.log(\"GLOWCOMM LOADED\");})"
      ],
      "text/plain": [
       "<IPython.core.display.Javascript object>"
      ]
     },
     "metadata": {},
     "output_type": "display_data"
    },
    {
     "data": {
      "text/html": [
       "<div id=\"glowscript\" class=\"glowscript\"></div>"
      ],
      "text/plain": [
       "<IPython.core.display.HTML object>"
      ]
     },
     "metadata": {},
     "output_type": "display_data"
    },
    {
     "data": {
      "application/javascript": [
       "window.__context = { glowscript_container: $(\"#glowscript\").removeAttr(\"id\")}"
      ],
      "text/plain": [
       "<IPython.core.display.Javascript object>"
      ]
     },
     "metadata": {},
     "output_type": "display_data"
    },
    {
     "data": {
      "text/html": [
       "<div id=\"glowscript\" class=\"glowscript\"></div>"
      ],
      "text/plain": [
       "<IPython.core.display.HTML object>"
      ]
     },
     "metadata": {},
     "output_type": "display_data"
    },
    {
     "data": {
      "application/javascript": [
       "window.__context = { glowscript_container: $(\"#glowscript\").removeAttr(\"id\")}"
      ],
      "text/plain": [
       "<IPython.core.display.Javascript object>"
      ]
     },
     "metadata": {},
     "output_type": "display_data"
    }
   ],
   "source": [
    "from vpython import *\n",
    "\n",
    "scene1 = canvas(width=800,heigh=400,center=vector(0,0,0),range=7)\n",
    "g1=graph(width=800,height=400)\n",
    "gc1=gdots(graph=g1,size=3,color=color.cyan)"
   ]
  },
  {
   "cell_type": "code",
   "execution_count": 2,
   "metadata": {
    "collapsed": false
   },
   "outputs": [],
   "source": [
    "# Constants\n",
    "mass, L0, k = 3 ,14, 50 # Tuple assignment\n",
    "\n",
    "ball=sphere(pos=vec(0,0,0),color=color.green,radius=1)\n",
    "\n",
    "wall_1=box(pos=vec(-7,0,0),color=color.yellow, size=vector(0.1,8,8))\n",
    "wall_2=box(pos=vec(7,0,0),color=color.yellow, size=vector(0.1,8,8))\n",
    "\n",
    "\n",
    "\n",
    "\n",
    "spring1=helix(pos=wall_1.pos,axis=(ball.pos-wall_1.pos),thickness = 0.1,radius=0.4,coils=10,color=color.yellow)\n",
    "spring2=helix(pos=ball.pos,axis=(wall_2.pos-ball.pos),thickness = 0.1,radius=0.4,coils=10,color=color.cyan)\n",
    "\n",
    "pball=vec(0,0,0)\n",
    "\n",
    "\n",
    "scene1.autoscale = False ## Turn off automatic Camera Zoom\n",
    "scene1.userzoom = False ## Turn off userzoom\n",
    "\n"
   ]
  },
  {
   "cell_type": "markdown",
   "metadata": {},
   "source": [
    "### Problem 1 Simulation\n",
    "\n",
    "Complete the following code to simulate the motion of the ball with its initial position at  of $\\mathbf{r}=\\langle-2,0,0 \\rangle$. Draw arrows to indicate the forces on the ball. \n",
    "Plot the $x$-coordinate of the ball $x$ vs $t$, and use the plot to determine the period of the motion. Store your results in a variable called `T1`. \n"
   ]
  },
  {
   "cell_type": "code",
   "execution_count": 3,
   "metadata": {
    "collapsed": false
   },
   "outputs": [
    {
     "name": "stdout",
     "output_type": "stream",
     "text": [
      "1.1\n"
     ]
    }
   ],
   "source": [
    "ball.pos=vec(-2,0,0)\n",
    "\n",
    "dt=0.02\n",
    "t=0\n",
    "scale=0.01\n",
    "# Force arrows\n",
    "Fa1=arrow(pos=ball.pos,axis=vec(0,0,0),shaftwidth=0.2)\n",
    "Fa2=arrow(pos=ball.pos,axis=vec(0,0,0),shaftwidth=0.2)\n",
    "ball_pos=[]\n",
    "ball_p=[]\n",
    "pr1x=0\n",
    "pr2x=0\n",
    "pr1t=0\n",
    "pr2t=0\n",
    "while t<5:\n",
    "    rate(50)\n",
    "    # Length of spring 1\n",
    "    L1=(ball.pos-wall_1.pos).mag\n",
    "    # Length of spring 2\n",
    "    L2=(wall_2.pos-ball.pos).mag\n",
    "    # Force from spring 1\n",
    "    F1=k*(L0-L1)*(ball.pos-wall_1.pos).norm()\n",
    "    # Force from spring 2\n",
    "    F2=k*(L0-L2)*(ball.pos-wall_2.pos).norm()\n",
    "    \n",
    "    # Update momentum\n",
    "    pball+=F1*dt+F2*dt\n",
    "\n",
    "    # Update Position\n",
    "    ball.pos+=pball/mass*dt\n",
    "\n",
    "    # Update spring 1\n",
    "    spring1.axis=(ball.pos-wall_1.pos)\n",
    "    # Update spring 2\n",
    "    spring2.pos=ball.pos\n",
    "    spring2.axis=(wall_2.pos-ball.pos)\n",
    "    \n",
    "    # Update the Force arrows\n",
    "    Fa1.pos=ball.pos\n",
    "    Fa1.axis=scale*F1\n",
    "    Fa2.pos=ball.pos\n",
    "    Fa2.axis=scale*F2\n",
    "    \n",
    "    # Plot the x vs t\n",
    "    gc1.plot([t,ball.pos.x])\n",
    "    #if pr1x>ball.pos.x and pr1x>pr2x:\n",
    "        #pr2t=pr1t\n",
    "        #pr1t=t\n",
    "    #pr2x=pr1x\n",
    "    #pr1x=ball.pos.x;\n",
    "    t+=dt\n",
    "#T1=pr1t-pr2t\n",
    "T1=1.1 #by eye\n",
    "print(T1)"
   ]
  },
  {
   "cell_type": "markdown",
   "metadata": {},
   "source": [
    "## Tutorial: Tuples and Lists in Python\n",
    "\n",
    "It is tedious to determine the period of the motion by plotting every time. It is desirable to save the simulation results for data processing later. \n",
    "\n",
    "We will introduce two build-in types of data structures that stores a sequence of values. "
   ]
  },
  {
   "cell_type": "markdown",
   "metadata": {},
   "source": [
    "### Tuples\n",
    "\n",
    "We have already used the **tuple assignment** in the previous problem. \n",
    "\n",
    "```\n",
    "mass, L0, k = 3 ,14, 50\n",
    "```\n",
    "The meaning of this statement is to assign `mass=3`, `L0=14` and `k=50`. That is, we have a tuple of three variables `mass, L0, k` or equivalently `(mass, L0, k)` and we assign a tuple of values `(3,14,50)` to it.  \n",
    "\n",
    "You give your tuple a name, then after that the list of values it will carry. For example, the months of the year:\n",
    "```\n",
    "months = ('January','February','March','April','May','June',\\\n",
    "'July','August','September','October','November','  December')\n",
    "```\n",
    "Elements of a tuple can be accessed by a numbered index, for example:\n",
    "```\n",
    "print(months[2])\n",
    "\n",
    "'March'\n",
    "```\n",
    "\n",
    "Tuples are **immutable**, i.e., you can not change the value after the initial assignment. This statement will result in an error:\n",
    "\n",
    "```\n",
    "months[2]='Apple'\n",
    "```\n",
    "For more information see: [Tuples](http://greenteapress.com/thinkpython2/html/thinkpython2013.html)\n",
    "\n"
   ]
  },
  {
   "cell_type": "code",
   "execution_count": 3,
   "metadata": {
    "collapsed": false
   },
   "outputs": [
    {
     "name": "stdout",
     "output_type": "stream",
     "text": [
      "March\n"
     ]
    }
   ],
   "source": [
    "months = ('January','February','March','April','May','June',\\\n",
    "'July','August','September','October','November','  December')\n",
    "print(months[2])\n"
   ]
  },
  {
   "cell_type": "code",
   "execution_count": 4,
   "metadata": {
    "collapsed": false
   },
   "outputs": [
    {
     "ename": "TypeError",
     "evalue": "'tuple' object does not support item assignment",
     "output_type": "error",
     "traceback": [
      "\u001b[0;31m---------------------------------------------------------------------------\u001b[0m",
      "\u001b[0;31mTypeError\u001b[0m                                 Traceback (most recent call last)",
      "\u001b[0;32m<ipython-input-4-93e54733cad1>\u001b[0m in \u001b[0;36m<module>\u001b[0;34m()\u001b[0m\n\u001b[0;32m----> 1\u001b[0;31m \u001b[0mmonths\u001b[0m\u001b[0;34m[\u001b[0m\u001b[0;36m2\u001b[0m\u001b[0;34m]\u001b[0m\u001b[0;34m=\u001b[0m\u001b[0;34m'Apple'\u001b[0m\u001b[0;34m\u001b[0m\u001b[0m\n\u001b[0m",
      "\u001b[0;31mTypeError\u001b[0m: 'tuple' object does not support item assignment"
     ]
    }
   ],
   "source": [
    "months[2]='Apple'"
   ]
  },
  {
   "cell_type": "markdown",
   "metadata": {},
   "source": [
    "### Lists\n",
    "\n",
    "Lists are very similar to tuples. Lists are **mutable**, so their values can be changed. Most of the time we use lists, not tuples, because we want to easily change the values of things if we need to.\n",
    "\n",
    "```\n",
    "cats = ['Tom', 'Snappy', 'Kitty', 'Jessie', 'Chester']\n",
    "```\n",
    "\n",
    "To add an entry into a list,\n",
    "```\n",
    "cats.append('Catherine')\n",
    "\n",
    "print(cats)\n",
    "['Tom', 'Snappy', 'Kitty', 'Jessie', 'Chester','Catherine']\n",
    "```\n",
    "\n",
    "To replace an item\n",
    "```\n",
    "cats[2]='Kitten'\n",
    "\n",
    "print(cats)\n",
    "['Tom', 'Snappy', 'Kitten', 'Jessie', 'Chester', 'Catherine']\n",
    "```\n",
    "To see if `'Jessie'` is in the list\n",
    "```\n",
    "'Jessie' in cats\n",
    "True\n",
    "```\n",
    "\n",
    "The elements in a list can be of any type; for example, it can be a list of lists:\n",
    "```\n",
    "L=[[1,2],[1,3],[2,3]]\n",
    "```\n",
    "and \n",
    "```\n",
    "print(L[0])\n",
    "[1,2]\n",
    "```\n",
    "\n",
    "To create an empty list with no elements,\n",
    "```\n",
    "L=[]\n",
    "```\n",
    "\n",
    "To access individual items in a list, we can use the `for` statement\n",
    "```\n",
    "for i in cats:\n",
    "    print(i)\n",
    "```\n",
    "\n",
    "For more information see: [Lists](http://greenteapress.com/thinkpython2/html/thinkpython2011.html)"
   ]
  },
  {
   "cell_type": "code",
   "execution_count": 6,
   "metadata": {
    "collapsed": false
   },
   "outputs": [
    {
     "name": "stdout",
     "output_type": "stream",
     "text": [
      "['Tom', 'Snappy', 'Kitty', 'Jessie', 'Chester', 'Catherine']\n",
      "['Tom', 'Snappy', 'Kitten', 'Jessie', 'Chester', 'Catherine']\n"
     ]
    }
   ],
   "source": [
    "cats = ['Tom', 'Snappy', 'Kitty', 'Jessie', 'Chester']\n",
    "cats.append('Catherine')\n",
    "print(cats)\n",
    "cats[2]='Kitten'\n",
    "print(cats)\n",
    "\n"
   ]
  },
  {
   "cell_type": "code",
   "execution_count": 7,
   "metadata": {
    "collapsed": false
   },
   "outputs": [
    {
     "data": {
      "text/plain": [
       "True"
      ]
     },
     "execution_count": 7,
     "metadata": {},
     "output_type": "execute_result"
    }
   ],
   "source": [
    "'Jessie' in cats"
   ]
  },
  {
   "cell_type": "code",
   "execution_count": 8,
   "metadata": {
    "collapsed": false
   },
   "outputs": [
    {
     "name": "stdout",
     "output_type": "stream",
     "text": [
      "Tom\n",
      "Snappy\n",
      "Kitten\n",
      "Jessie\n",
      "Chester\n",
      "Catherine\n"
     ]
    }
   ],
   "source": [
    "for i in cats:\n",
    "    print(i)"
   ]
  },
  {
   "cell_type": "markdown",
   "metadata": {},
   "source": [
    "## Problem 2\n",
    "Modify the code in [Problem 1](#prob1) to save the $x(t)$ of the ball in a list called `ball_pos`. \n",
    "Write a code to use this list to determine the period of the motion and store it in a variable `T2`. Print out `T1` and `T2` at the end. \n",
    "\n",
    "### Problem 2 simulation\n"
   ]
  },
  {
   "cell_type": "code",
   "execution_count": 1,
   "metadata": {
    "collapsed": false
   },
   "outputs": [
    {
     "data": {
      "application/javascript": [
       "require.undef(\"nbextensions/vpython_libraries/jquery-ui.custom.min\");"
      ],
      "text/plain": [
       "<IPython.core.display.Javascript object>"
      ]
     },
     "metadata": {},
     "output_type": "display_data"
    },
    {
     "data": {
      "application/javascript": [
       "require.undef(\"nbextensions/vpython_libraries/glow.2.1.min\");"
      ],
      "text/plain": [
       "<IPython.core.display.Javascript object>"
      ]
     },
     "metadata": {},
     "output_type": "display_data"
    },
    {
     "data": {
      "application/javascript": [
       "require.undef(\"nbextensions/vpython_libraries/glowcomm\");"
      ],
      "text/plain": [
       "<IPython.core.display.Javascript object>"
      ]
     },
     "metadata": {},
     "output_type": "display_data"
    },
    {
     "data": {
      "application/javascript": [
       "require([\"nbextensions/vpython_libraries/jquery-ui.custom.min\"], function(){console.log(\"JQUERY LOADED\");})"
      ],
      "text/plain": [
       "<IPython.core.display.Javascript object>"
      ]
     },
     "metadata": {},
     "output_type": "display_data"
    },
    {
     "data": {
      "application/javascript": [
       "require([\"nbextensions/vpython_libraries/glow.2.1.min\"], function(){console.log(\"GLOW LOADED\");})"
      ],
      "text/plain": [
       "<IPython.core.display.Javascript object>"
      ]
     },
     "metadata": {},
     "output_type": "display_data"
    },
    {
     "data": {
      "application/javascript": [
       "require([\"nbextensions/vpython_libraries/glowcomm\"], function(){console.log(\"GLOWCOMM LOADED\");})"
      ],
      "text/plain": [
       "<IPython.core.display.Javascript object>"
      ]
     },
     "metadata": {},
     "output_type": "display_data"
    },
    {
     "data": {
      "text/html": [
       "<div id=\"glowscript\" class=\"glowscript\"></div>"
      ],
      "text/plain": [
       "<IPython.core.display.HTML object>"
      ]
     },
     "metadata": {},
     "output_type": "display_data"
    },
    {
     "data": {
      "application/javascript": [
       "window.__context = { glowscript_container: $(\"#glowscript\").removeAttr(\"id\")}"
      ],
      "text/plain": [
       "<IPython.core.display.Javascript object>"
      ]
     },
     "metadata": {},
     "output_type": "display_data"
    },
    {
     "data": {
      "text/html": [
       "<div id=\"glowscript\" class=\"glowscript\"></div>"
      ],
      "text/plain": [
       "<IPython.core.display.HTML object>"
      ]
     },
     "metadata": {},
     "output_type": "display_data"
    },
    {
     "data": {
      "application/javascript": [
       "window.__context = { glowscript_container: $(\"#glowscript\").removeAttr(\"id\")}"
      ],
      "text/plain": [
       "<IPython.core.display.Javascript object>"
      ]
     },
     "metadata": {},
     "output_type": "display_data"
    },
    {
     "name": "stdout",
     "output_type": "stream",
     "text": [
      "1.1\n",
      "1.08639053254\n"
     ]
    }
   ],
   "source": [
    "### Problem2\n",
    "from vpython import *\n",
    "\n",
    "scene1 = canvas(width=800,heigh=400,center=vector(0,0,0),range=7)\n",
    "g1=graph(width=800,height=400)\n",
    "gc1=gdots(graph=g1,size=3,color=color.cyan)\n",
    "# Constants\n",
    "mass, L0, k = 3 ,14, 50 # Tuple assignment\n",
    "\n",
    "ball=sphere(pos=vec(0,0,0),color=color.green,radius=1)\n",
    "\n",
    "wall_1=box(pos=vec(-7,0,0),color=color.yellow, size=vector(0.1,8,8))\n",
    "wall_2=box(pos=vec(7,0,0),color=color.yellow, size=vector(0.1,8,8))\n",
    "\n",
    "\n",
    "\n",
    "\n",
    "spring1=helix(pos=wall_1.pos,axis=(ball.pos-wall_1.pos),thickness = 0.1,radius=0.4,coils=10,color=color.yellow)\n",
    "spring2=helix(pos=ball.pos,axis=(wall_2.pos-ball.pos),thickness = 0.1,radius=0.4,coils=10,color=color.cyan)\n",
    "\n",
    "pball=vec(0,0,0)\n",
    "\n",
    "\n",
    "scene1.autoscale = False ## Turn off automatic Camera Zoom\n",
    "scene1.userzoom = False ## Turn off userzoom\n",
    "\n",
    "ball.pos=vec(-2,0,0)\n",
    "\n",
    "dt=0.02\n",
    "t=0\n",
    "scale=0.01\n",
    "# Force arrows\n",
    "Fa1=arrow(pos=ball.pos,axis=vec(0,0,0),shaftwidth=0.2)\n",
    "Fa2=arrow(pos=ball.pos,axis=vec(0,0,0),shaftwidth=0.2)\n",
    "ball_pos=[]\n",
    "ball_p=[]\n",
    "while t<5:\n",
    "    rate(50)\n",
    "    # Length of spring 1\n",
    "    L1=(ball.pos-wall_1.pos).mag\n",
    "    # Length of spring 2\n",
    "    L2=(wall_2.pos-ball.pos).mag\n",
    "    # Force from spring 1\n",
    "    F1=k*(L0-L1)*(ball.pos-wall_1.pos).norm()\n",
    "    # Force from spring 2\n",
    "    F2=k*(L0-L2)*(ball.pos-wall_2.pos).norm()\n",
    "    \n",
    "    # Update momentum\n",
    "    pball+=F1*dt+F2*dt\n",
    "\n",
    "    # Update Position\n",
    "    ball.pos+=pball/mass*dt\n",
    "\n",
    "    # Update spring 1\n",
    "    spring1.axis=(ball.pos-wall_1.pos)\n",
    "    # Update spring 2\n",
    "    spring2.pos=ball.pos\n",
    "    spring2.axis=(wall_2.pos-ball.pos)\n",
    "    \n",
    "    # Update the Force arrows\n",
    "    Fa1.pos=ball.pos\n",
    "    Fa1.axis=scale*F1\n",
    "    Fa2.pos=ball.pos\n",
    "    Fa2.axis=scale*F2\n",
    "    \n",
    "    # Plot the x vs t\n",
    "    gc1.plot([t,ball.pos.x])\n",
    "    ball_pos.append(ball.pos.x)\n",
    "    t+=dt\n",
    "    \n",
    "T1=1.1\n",
    "print(T1)\n",
    "t1=-1\n",
    "t2=-1\n",
    "cnt=0\n",
    "tot=0\n",
    "for i in range(1,len(ball_pos)-2,1):\n",
    "    if ball_pos[i]>ball_pos[i-1] and ball_pos[i]>ball_pos[i+1]:\n",
    "        t2=t1\n",
    "        t1=i*dt\n",
    "    if t2 != -1 :\n",
    "        cnt+=1\n",
    "        tot+=t1-t2\n",
    "T2=tot/cnt#t1-t2\n",
    "print(T2)"
   ]
  },
  {
   "cell_type": "markdown",
   "metadata": {},
   "source": [
    "## Problem 3\n",
    "\n",
    "Now we add another ball to form a horizontal chain of two identical 3 kg masses and three identical springs of relaxed length 14 m and stiffness 50 N/m is supended between two walls, as shown in the figure.\n",
    "![](Fig2.jpg)"
   ]
  },
  {
   "cell_type": "code",
   "execution_count": 2,
   "metadata": {
    "collapsed": false,
    "scrolled": true
   },
   "outputs": [
    {
     "data": {
      "text/html": [
       "<div id=\"glowscript\" class=\"glowscript\"></div>"
      ],
      "text/plain": [
       "<IPython.core.display.HTML object>"
      ]
     },
     "metadata": {},
     "output_type": "display_data"
    },
    {
     "data": {
      "application/javascript": [
       "window.__context = { glowscript_container: $(\"#glowscript\").removeAttr(\"id\")}"
      ],
      "text/plain": [
       "<IPython.core.display.Javascript object>"
      ]
     },
     "metadata": {},
     "output_type": "display_data"
    }
   ],
   "source": [
    "### Problem 3\n",
    "\n",
    "from vpython import *\n",
    "\n",
    "scene2 = canvas(width=800,heigh=400,center=vector(0,0,0),range=14)\n",
    "g2=graph(width=800,height=400)\n",
    "gc2=gdots(graph=g2,size=3,color=color.cyan)\n",
    "\n"
   ]
  },
  {
   "cell_type": "code",
   "execution_count": 3,
   "metadata": {
    "collapsed": true
   },
   "outputs": [],
   "source": [
    "# Constants\n",
    "mass, L0, k = 3 ,14, 50 # Tuple assignment\n",
    "\n",
    "# Set up the model\n",
    "ball_1=sphere(pos=vec(-7,0,0),color=color.green,radius=2)\n",
    "ball_2=sphere(pos=vec(7,0,0),color=color.green,radius=2)\n",
    "wall_1=box(pos=vec(-21,0,0),color=color.yellow, size=vector(0.1,8,8))\n",
    "wall_2=box(pos=vec(21,0,0),color=color.yellow, size=vector(0.1,8,8))\n",
    "\n",
    "\n",
    "\n",
    "spring1=helix(pos=wall_1.pos,axis=ball_1.pos-wall_1.pos,thickness = 0.2,radius=0.4,coils=20,color=color.magenta)\n",
    "spring2=helix(pos=ball_1.pos,axis=(ball_2.pos-ball_1.pos),thickness = 0.2,radius=0.4,coils=20,color=color.cyan)\n",
    "spring3=helix(pos=ball_2.pos,axis=(wall_2.pos-ball_2.pos),thickness = 0.2,radius=0.4,coils=20,color=color.yellow)\n",
    "\n",
    "pball_1=vec(0,0,0)\n",
    "pball_2=vec(0,0,0)\n",
    "\n",
    "\n",
    "scene2.autoscale = False ## Turn off automatic Camera Zoom\n",
    "scene2.userzoom=False"
   ]
  },
  {
   "cell_type": "markdown",
   "metadata": {},
   "source": [
    "### Problem 3 Simulation\n",
    "\n",
    "Complete the following code to simulate the motion of the balls if ball 1 is displaced to  position $\\mathbf{r}_1=\\langle -5,0,0\\rangle$ and ball 2 is displaced to $\\mathbf{r}_1=\\langle 5,0,0\\rangle$. Determine the period of the motion. "
   ]
  },
  {
   "cell_type": "code",
   "execution_count": 4,
   "metadata": {
    "collapsed": false,
    "scrolled": true
   },
   "outputs": [
    {
     "name": "stdout",
     "output_type": "stream",
     "text": [
      "0.887021791768\n"
     ]
    }
   ],
   "source": [
    "ball_1.pos=vec(-5,0,0)\n",
    "ball_2.pos=vec(5,0,0)\n",
    "\n",
    "\n",
    "dt=0.02\n",
    "t=0\n",
    "pr1x=0\n",
    "pr2x=0\n",
    "pr1t=-1\n",
    "pr2t=-1\n",
    "tot=0\n",
    "cnt=0\n",
    "while t<10:\n",
    "    rate(50)\n",
    "    # Length of spring 1\n",
    "    L1=(ball_1.pos-wall_1.pos).mag\n",
    "    # Length of spring 2\n",
    "    L2=(ball_2.pos-ball_1.pos).mag\n",
    "    # Length of spring 3\n",
    "    L3=(wall_2.pos-ball_2.pos).mag\n",
    "    \n",
    "    # Force from spring 1\n",
    "    F1=k*(L0-L1)*(ball_1.pos-wall_1.pos).norm()\n",
    "    # Force from spring 2\n",
    "    F2=k*(L0-L2)*(ball_2.pos-ball_1.pos).norm()\n",
    "    # Force from spring 3\n",
    "    F3=k*(L0-L3)*(wall_2.pos-ball_2.pos).norm()\n",
    "\n",
    "    # Update momenta\n",
    "    pball_1+=F1*dt-F2*dt\n",
    "    pball_2+=F2*dt-F3*dt\n",
    "    # Update position\n",
    "    ball_1.pos+=pball_1/mass*dt\n",
    "    ball_2.pos+=pball_2/mass*dt\n",
    "    \n",
    "    # Update springs\n",
    "    spring1.axis=ball_1.pos-wall_1.pos\n",
    "    spring2.pos=ball_1.pos\n",
    "    spring2.axis=ball_2.pos-ball_1.pos\n",
    "    spring3.pos=ball_2.pos\n",
    "    spring3.axis=wall_2.pos-ball_2.pos\n",
    "    \n",
    "    # Plot x1 vs t, and x2 vs t\n",
    "    gc2.plot([t,ball_1.pos.x])\n",
    "    gc2.plot([t,ball_2.pos.x])\n",
    "    t+=dt\n",
    "    if pr1x>ball_1.pos.x and pr1x>pr2x:\n",
    "        pr2t=pr1t\n",
    "        pr1t=t\n",
    "    if pr2t != -1:\n",
    "        tot+=pr1t-pr2t\n",
    "        cnt+=1\n",
    "    pr2x=pr1x\n",
    "    pr1x=ball_1.pos.x;\n",
    "\n",
    "T1=tot/cnt#pr1t-pr2t\n",
    "print(T1)\n",
    "\n"
   ]
  },
  {
   "cell_type": "code",
   "execution_count": null,
   "metadata": {
    "collapsed": true
   },
   "outputs": [],
   "source": []
  }
 ],
 "metadata": {
  "anaconda-cloud": {},
  "kernelspec": {
   "display_name": "VPython",
   "language": "python",
   "name": "vpython"
  },
  "language_info": {
   "codemirror_mode": {
    "name": "ipython",
    "version": 2
   },
   "file_extension": ".py",
   "mimetype": "text/x-python",
   "name": "python",
   "nbconvert_exporter": "python",
   "pygments_lexer": "ipython2",
   "version": "2.7.12"
  }
 },
 "nbformat": 4,
 "nbformat_minor": 1
}
