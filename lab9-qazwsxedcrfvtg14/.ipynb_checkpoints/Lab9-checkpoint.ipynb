{
 "cells": [
  {
   "cell_type": "markdown",
   "metadata": {},
   "source": [
    "# Lab9: A Spring-Mass System: Part 2\n",
    "\n",
    "## Objective\n",
    "\n",
    "In this activity you will extend the program you wrote in activity Lab7: A Spring-Mass System, Part 1.  Before doing this activity you should have studied Section 5.11.\n",
    "\n",
    "After completing this activity you should be able to:\n",
    "\n",
    "\n",
    "* Explain the flow of energy in a vertically oscillating spring-mass system.\n",
    "* Explain the shape of a graph of $K+U$ for a spring-mass system subject to a dissipative force (either air resistance, viscous friction, or sliding friction).\n",
    "\n",
    "*This notebook is adopted from the Lab VP08 materials from Matter & Interactions 4e* \n",
    "\n",
    "Reference: [Jupyter VPython Documentation](http://www.glowscript.org/docs/VPythonDocs/index.html)\n",
    "\n"
   ]
  },
  {
   "cell_type": "markdown",
   "metadata": {},
   "source": [
    "## Energy versus Time\n",
    "\n",
    "Start with the program you wrote in activity Lab7: A Spring-Mass System, Part 1.  \n",
    "\n",
    "*  Use initial conditions that result in purely vertical, 1D oscillations of the mass. Make sure you are using a value of $\\Delta t$ that is small compared to the period of the oscillations.\n",
    "*  Add code to produce graphs of: spring potential energy, kinetic energy, and the sum of these two terms.\n",
    "*  Is the sum constant?  Should it be constant?  Explain.  If the sum is not constant, modify the progam to make the graph of potential + kinetic energy constant.\n",
    "\n"
   ]
  },
  {
   "cell_type": "code",
   "execution_count": 13,
   "metadata": {
    "collapsed": false
   },
   "outputs": [
    {
     "data": {
      "text/html": [
       "<div id=\"glowscript\" class=\"glowscript\"></div>"
      ],
      "text/plain": [
       "<IPython.core.display.HTML object>"
      ]
     },
     "metadata": {},
     "output_type": "display_data"
    },
    {
     "data": {
      "application/javascript": [
       "window.__context = { glowscript_container: $(\"#glowscript\").removeAttr(\"id\")}"
      ],
      "text/plain": [
       "<IPython.core.display.Javascript object>"
      ]
     },
     "metadata": {},
     "output_type": "display_data"
    }
   ],
   "source": [
    "from vpython import *\n",
    "scene=canvas(width=400,height=500,title='Click to start') # Create a canvas for 3D graphics, align to the left\n",
    "g=graph(width=400,height=400) # Create a graph for plotting, align to the right\n",
    "gc1=gcurve(graph=g,color=color.cyan) # Plotting data points using gcurve\n",
    "gc2=gcurve(graph=g,color=color.red) # Plotting data points using gcurve\n",
    "gc3=gcurve(graph=g,color=color.blue) # Plotting data points using gcurvev\n",
    "gc4=gcurve(graph=g,color=color.blue) # Plotting data points using gcurvev"
   ]
  },
  {
   "cell_type": "code",
   "execution_count": 14,
   "metadata": {
    "collapsed": false
   },
   "outputs": [
    {
     "ename": "AttributeError",
     "evalue": "'int' object has no attribute 'x'",
     "output_type": "error",
     "traceback": [
      "\u001b[0;31m---------------------------------------------------------------------------\u001b[0m",
      "\u001b[0;31mAttributeError\u001b[0m                            Traceback (most recent call last)",
      "\u001b[0;32m<ipython-input-14-0b4f19102539>\u001b[0m in \u001b[0;36m<module>\u001b[0;34m()\u001b[0m\n\u001b[1;32m     25\u001b[0m     \u001b[0mFspring\u001b[0m\u001b[1;33m=\u001b[0m\u001b[1;33m-\u001b[0m\u001b[0mks\u001b[0m\u001b[1;33m*\u001b[0m\u001b[1;33m(\u001b[0m\u001b[0mL\u001b[0m\u001b[1;33m.\u001b[0m\u001b[0mmag\u001b[0m\u001b[1;33m-\u001b[0m\u001b[0mL0\u001b[0m\u001b[1;33m)\u001b[0m\u001b[1;33m*\u001b[0m\u001b[0mL\u001b[0m\u001b[1;33m.\u001b[0m\u001b[0mnorm\u001b[0m\u001b[1;33m(\u001b[0m\u001b[1;33m)\u001b[0m\u001b[1;33m\u001b[0m\u001b[0m\n\u001b[1;32m     26\u001b[0m     \u001b[0mFmo\u001b[0m\u001b[1;33m=\u001b[0m\u001b[1;36m0\u001b[0m\u001b[1;31m#-1*(pball/mball).mag2*(pball/mball).norm()\u001b[0m\u001b[1;33m\u001b[0m\u001b[0m\n\u001b[0;32m---> 27\u001b[0;31m     \u001b[0mFnet\u001b[0m \u001b[1;33m=\u001b[0m \u001b[0mFgrav\u001b[0m\u001b[1;33m+\u001b[0m\u001b[0mFspring\u001b[0m\u001b[1;33m+\u001b[0m\u001b[0mFmo\u001b[0m\u001b[1;33m\u001b[0m\u001b[0m\n\u001b[0m\u001b[1;32m     28\u001b[0m     \u001b[0mpball\u001b[0m \u001b[1;33m=\u001b[0m \u001b[0mpball\u001b[0m \u001b[1;33m+\u001b[0m \u001b[0mFnet\u001b[0m\u001b[1;33m*\u001b[0m\u001b[0mdeltat\u001b[0m\u001b[1;33m\u001b[0m\u001b[0m\n\u001b[1;32m     29\u001b[0m     \u001b[0mball\u001b[0m\u001b[1;33m.\u001b[0m\u001b[0mpos\u001b[0m \u001b[1;33m=\u001b[0m \u001b[0mball\u001b[0m\u001b[1;33m.\u001b[0m\u001b[0mpos\u001b[0m \u001b[1;33m+\u001b[0m \u001b[1;33m(\u001b[0m\u001b[0mpball\u001b[0m\u001b[1;33m/\u001b[0m\u001b[0mmball\u001b[0m\u001b[1;33m)\u001b[0m\u001b[1;33m*\u001b[0m\u001b[0mdeltat\u001b[0m\u001b[1;33m\u001b[0m\u001b[0m\n",
      "\u001b[0;32mvpython\\cyvector.pyx\u001b[0m in \u001b[0;36mvpython.cyvector.vector.__add__ (vpython/cyvector.c:2297)\u001b[0;34m()\u001b[0m\n",
      "\u001b[0;31mAttributeError\u001b[0m: 'int' object has no attribute 'x'"
     ]
    }
   ],
   "source": [
    "## constants and data\n",
    "g = 9.8\n",
    "mball = 0.03\n",
    "L0 = 0.26\n",
    "ks = 1.8\n",
    "deltat = .01  \n",
    "## objects (origin is at ceiling)\n",
    "ceiling = box(pos=vector(0,0,0), length=0.2, height=0.01, width=0.2) \n",
    "ball = sphere(pos=vector(0.0,-0.3,0.0), radius=0.025,\\\n",
    "              color=color.orange)\n",
    "spring = helix(pos=ceiling.pos, axis=ball.pos-ceiling.pos,\\\n",
    "               color=color.cyan, thickness=.003, coils=40, radius=0.010)\n",
    "## initial values\n",
    "pball = mball*vector(0,0,0)\n",
    "Fgrav = mball*g*vector(0,-1,0)\n",
    "t = 0\n",
    "## improve the display\n",
    "scene.autoscale = False  \n",
    "scene.userzoom= False \n",
    "## turn off automatic camera zoom\n",
    "scene.center = vector(0,-L0,0)   ## move camera down \n",
    "scene.waitfor('click')           ## wait for a mouse click\n",
    "## calculation loop\n",
    "while t <10:\n",
    "    rate(100)\n",
    "    L=ball.pos-ceiling.pos\n",
    "    Fspring=-ks*(L.mag-L0)*L.norm()\n",
    "    Fmo=vector(0,0,0)#-1*(pball/mball).mag2*(pball/mball).norm()\n",
    "    Fnet = Fgrav+Fspring+Fmo\n",
    "    pball = pball + Fnet*deltat\n",
    "    ball.pos = ball.pos + (pball/mball)*deltat\n",
    "    spring.axis = ball.pos - ceiling.pos\n",
    "\n",
    "    t = t + deltat\n",
    "    gc1.plot(t,1.0/2*mball*(pball/mball).mag2)\n",
    "    gc2.plot(t,1.0/2*ks*(L.mag-L0))\n",
    "    gc3.plot(t,mball*9.8*(-L.mag))\n",
    "    gc4.plot(t,1.0/2*mball*(pball/mball).mag2+1.0/2*ks*(L.mag-L0)+mball*9.8*(-L.mag))\n"
   ]
  },
  {
   "cell_type": "markdown",
   "metadata": {},
   "source": [
    "## Dissipation \n",
    "\n",
    "A real spring-mass system will not oscillate forever.  To refine this model, we need to add a dissipative interaction.\n",
    "\n",
    "\n",
    "* Add either an air resistance force or a viscous friction force (as if the system were immersed in oil) to your model.  You will need to invent values for the appropriate constants, and adjust these values until you get reasonable damping behavior.  Find values that allow your system to go through 10-15 oscillations before it stops moving.\n",
    "* Make sure that your graphs include **all** appropriate forms of energy for the system of mass, spring, and Earth.\n",
    "* Does the sum of kinetic and potential energy decrease linearly?  Explain the shape of this graph.\n"
   ]
  },
  {
   "cell_type": "code",
   "execution_count": null,
   "metadata": {
    "collapsed": true
   },
   "outputs": [],
   "source": [
    "## constants and data\n",
    "g = 9.8\n",
    "mball = 0.03\n",
    "L0 = 0.26\n",
    "ks = 1.8\n",
    "deltat = .01  \n",
    "## objects (origin is at ceiling)\n",
    "ceiling = box(pos=vector(0,0,0), length=0.2, height=0.01, width=0.2) \n",
    "ball = sphere(pos=vector(0.0,-0.3,0.0), radius=0.025,\\\n",
    "              color=color.orange)\n",
    "spring = helix(pos=ceiling.pos, axis=ball.pos-ceiling.pos,\\\n",
    "               color=color.cyan, thickness=.003, coils=40, radius=0.010)\n",
    "## initial values\n",
    "pball = mball*vector(0,0,0)\n",
    "Fgrav = mball*g*vector(0,-1,0)\n",
    "t = 0\n",
    "## improve the display\n",
    "scene.autoscale = False  \n",
    "scene.userzoom= False \n",
    "## turn off automatic camera zoom\n",
    "scene.center = vector(0,-L0,0)   ## move camera down \n",
    "scene.waitfor('click')           ## wait for a mouse click\n",
    "## calculation loop\n",
    "while t <10:\n",
    "    rate(100)\n",
    "    L=ball.pos-ceiling.pos\n",
    "    Fspring=-ks*(L.mag-L0)*L.norm()\n",
    "    Fmo=-1*(pball/mball).mag2*(pball/mball).norm()\n",
    "    Fnet = Fgrav+Fspring+Fmo\n",
    "    pball = pball + Fnet*deltat\n",
    "    ball.pos = ball.pos + (pball/mball)*deltat\n",
    "    spring.axis = ball.pos - ceiling.pos\n",
    "\n",
    "    t = t + deltat\n",
    "    gc1.plot(t,1.0/2*mball*(pball/mball).mag2)\n",
    "    gc2.plot(t,1.0/2*ks*(L.mag-L0))\n",
    "    gc3.plot(t,mball*9.8*(-L.mag))\n",
    "    gc4.plot(t,1.0/2*mball*(pball/mball).mag2+1.0/2*ks*(L.mag-L0)+mball*9.8*(-L.mag))\n"
   ]
  }
 ],
 "metadata": {
  "anaconda-cloud": {},
  "kernelspec": {
   "display_name": "VPython",
   "language": "python",
   "name": "vpython"
  },
  "language_info": {
   "codemirror_mode": {
    "name": "ipython",
    "version": 2
   },
   "file_extension": ".py",
   "mimetype": "text/x-python",
   "name": "python",
   "nbconvert_exporter": "python",
   "pygments_lexer": "ipython2",
   "version": "2.7.12"
  }
 },
 "nbformat": 4,
 "nbformat_minor": 1
}
