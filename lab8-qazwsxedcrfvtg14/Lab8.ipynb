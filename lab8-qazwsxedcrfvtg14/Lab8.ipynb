{
 "cells": [
  {
   "cell_type": "markdown",
   "metadata": {},
   "source": [
    "#  A Space Voyage: Part 3\n",
    "\n",
    "## Objective\n",
    "\n",
    "In this activity you will extend the program you wrote in *VP06: A Space Voyage, Part 2,* to include energy in your model of the interaction of a spacecraft, the Earth, and the Moon.   Before doing this activity you should have studied Section 6.15 of the  *Matter and Interactions, 4e* textbook. \n",
    "\n",
    "After completing this activity you should be able to:\n",
    "\n",
    "* Explain the flow of energy as a function of time for the system of a spacecraft and the Earth, in different orbits.\n",
    "* Explain the flow of energy as a function of separation for the system of a spacecraft and the Earth.\n",
    "* Explain the flow of energy as a function of time for the system of a spacecraft, Earth, and Moon.\n",
    "* Explain the effect of your choice of $\\Delta t$ (deltat) on the accuracy of your predictions.\n",
    "\n",
    "\n",
    "*This notebook is adopted from the Lab VP08 materials from Matter & Interactions 4e* \n",
    "\n",
    "Reference: [Jupyter VPython Documentation](http://www.glowscript.org/docs/VPythonDocs/index.html)\n",
    "\n"
   ]
  },
  {
   "cell_type": "markdown",
   "metadata": {},
   "source": [
    "## Predictions: Spacecraft and Earth only (no Moon)\n",
    "\n",
    "Consider the system of spacecraft and Earth only (ignore the Moon for now), and assume the spacecraft's orbit around the Earth is elliptical.  On a piece of paper, sketch your prediction for graphs of:\n",
    "\n",
    "* Kinetic energy, potential energy, and the sum of  $K+U$  versus time, for this system.\n",
    "* Kinetic energy, potential energy, and the sum of  $K+U$  versus separation, for this system.\n",
    "\n"
   ]
  },
  {
   "cell_type": "markdown",
   "metadata": {},
   "source": [
    "## STOP! Show your prediction to a TA \n"
   ]
  },
  {
   "cell_type": "code",
   "execution_count": 1,
   "metadata": {
    "collapsed": false
   },
   "outputs": [
    {
     "data": {
      "application/javascript": [
       "require.undef(\"nbextensions/vpython_libraries/jquery-ui.custom.min\");"
      ],
      "text/plain": [
       "<IPython.core.display.Javascript object>"
      ]
     },
     "metadata": {},
     "output_type": "display_data"
    },
    {
     "data": {
      "application/javascript": [
       "require.undef(\"nbextensions/vpython_libraries/glow.2.1.min\");"
      ],
      "text/plain": [
       "<IPython.core.display.Javascript object>"
      ]
     },
     "metadata": {},
     "output_type": "display_data"
    },
    {
     "data": {
      "application/javascript": [
       "require.undef(\"nbextensions/vpython_libraries/glowcomm\");"
      ],
      "text/plain": [
       "<IPython.core.display.Javascript object>"
      ]
     },
     "metadata": {},
     "output_type": "display_data"
    },
    {
     "data": {
      "application/javascript": [
       "require([\"nbextensions/vpython_libraries/jquery-ui.custom.min\"], function(){console.log(\"JQUERY LOADED\");})"
      ],
      "text/plain": [
       "<IPython.core.display.Javascript object>"
      ]
     },
     "metadata": {},
     "output_type": "display_data"
    },
    {
     "data": {
      "application/javascript": [
       "require([\"nbextensions/vpython_libraries/glow.2.1.min\"], function(){console.log(\"GLOW LOADED\");})"
      ],
      "text/plain": [
       "<IPython.core.display.Javascript object>"
      ]
     },
     "metadata": {},
     "output_type": "display_data"
    },
    {
     "data": {
      "application/javascript": [
       "require([\"nbextensions/vpython_libraries/glowcomm\"], function(){console.log(\"GLOWCOMM LOADED\");})"
      ],
      "text/plain": [
       "<IPython.core.display.Javascript object>"
      ]
     },
     "metadata": {},
     "output_type": "display_data"
    },
    {
     "data": {
      "text/html": [
       "<div id=\"glowscript\" class=\"glowscript\"></div>"
      ],
      "text/plain": [
       "<IPython.core.display.HTML object>"
      ]
     },
     "metadata": {},
     "output_type": "display_data"
    },
    {
     "data": {
      "application/javascript": [
       "window.__context = { glowscript_container: $(\"#glowscript\").removeAttr(\"id\")}"
      ],
      "text/plain": [
       "<IPython.core.display.Javascript object>"
      ]
     },
     "metadata": {},
     "output_type": "display_data"
    },
    {
     "data": {
      "text/html": [
       "<div id=\"glowscript\" class=\"glowscript\"></div>"
      ],
      "text/plain": [
       "<IPython.core.display.HTML object>"
      ]
     },
     "metadata": {},
     "output_type": "display_data"
    },
    {
     "data": {
      "application/javascript": [
       "window.__context = { glowscript_container: $(\"#glowscript\").removeAttr(\"id\")}"
      ],
      "text/plain": [
       "<IPython.core.display.Javascript object>"
      ]
     },
     "metadata": {},
     "output_type": "display_data"
    }
   ],
   "source": [
    "from vpython import *\n",
    "scene1=canvas(width=800,height=600) # Create a canvas for 3D graphics, align to the left\n",
    "g1=graph(scene=scene1,width=400,height=200,ytitle='E',xtitle='t') # Create a graph for plotting, align to the right\n",
    "gc11=gcurve(graph=g1,color=color.cyan,dot=True) # Plotting data points using gcurve\n",
    "gc12=gcurve(graph=g1,color=color.red,dot=True) # Plotting data points using gcurve\n",
    "gc13=gcurve(graph=g1,color=color.blue,dot=True) # Plotting data points using gcurve\n",
    "\n",
    "g2=graph(scene=scene1,width=400,height=200,ytitle='E',xtitle='r') # Create a graph for plotting, align to the right\n",
    "gc21=gcurve(graph=g2,color=color.cyan,dot=True)\n",
    "gc22=gcurve(graph=g2,color=color.red,dot=True)\n",
    "gc23=gcurve(graph=g2,color=color.blue,dot=True)"
   ]
  },
  {
   "cell_type": "code",
   "execution_count": null,
   "metadata": {
    "collapsed": false
   },
   "outputs": [],
   "source": [
    "G = 6.7e-11\n",
    "mEarth = 6e24\n",
    "mcraft = 15e3\n",
    "deltat = 100\n",
    "mMoon=7e22\n",
    "\n",
    "Earth = sphere(pos=vector(0,0,0), radius=6.4e6, color=color.cyan)\n",
    "craft = sphere(pos=vector(-10*Earth.radius, 0,0), radius=1e6,\n",
    "               color=color.yellow, make_trail=True)\n",
    "\n",
    "Moon = sphere(pos=vector(4e8,0,0),radius=1.75e6,color=color.red)\n",
    "vcraft = vector(0,2e3,0)\n",
    "pcraft = mcraft*vcraft\n",
    "t = 0\n",
    "scene1.autoscale = False ##turn off automatic camera zoom\n",
    "scene1.userzoom=False\n",
    "while t < 10*365*24*60:\n",
    "    rate(1000)   \n",
    "    scene.center = (Earth.pos + Moon.pos)/2\n",
    "    r=craft.pos-Earth.pos\n",
    "    r2=craft.pos-Moon.pos\n",
    "    f_grav=-G*mEarth*mcraft/r.mag2*r.norm()-G*mMoon*mcraft/r2.mag2*r2.norm()\n",
    "    pcraft+=f_grav*deltat\n",
    "    craft.pos = craft.pos + (pcraft/mcraft)*deltat\n",
    "    ### Kinetic Energy\n",
    "    \n",
    "    k=1/2*pcraft.mag2/mcraft\n",
    "    \n",
    "    ### Potential Energy\n",
    "    \n",
    "    p=-G*mEarth*mcraft/r.mag\n",
    "\n",
    "    ### Total Energy\n",
    "    \n",
    "    tot=k+p\n",
    "    \n",
    "    ### Plotting\n",
    "    ### Use gc11,gc12,gc13 for E vs t\n",
    "    \n",
    "    gc11.plot(t,k);\n",
    "    gc12.plot(t,p);\n",
    "    gc13.plot(t,tot);\n",
    "    \n",
    "    ### Use gc21, gc22,gc23 for E vs r\n",
    "    gc21.plot(r.mag,k);\n",
    "    gc22.plot(r.mag,p);\n",
    "    gc23.plot(r.mag,tot);\n",
    "    \n",
    "    ### Use gc21, gc22,gc23 for E vs r\n",
    "    ### To plot a data point (x,y) using the gc11 curve plot\n",
    "    ### gc11.plot([x,y])\n",
    "    ###\n",
    "    \n",
    "\n",
    "    t = t+deltat\n",
    "    "
   ]
  },
  {
   "cell_type": "markdown",
   "metadata": {},
   "source": [
    "## Adding graphs to your program\n",
    "\n",
    "### Energy vs. time\n",
    "\n",
    "\n",
    "* Set the mass of the Moon to zero in your program, so only the spacecraft and the Earth interact.  Adjust the initial velocity of the spacecraft to produce an **elliptical** orbit.\n",
    "* Add code to calculate and graph the following quantities as a function of time:  kinetic energy, potential energy, and the sum of kinetic and potential energy.   \n",
    "* Explain the shape of each of the graphs.  Do they differ from your predictions?\n",
    "* Experiment with the size of the time step $\\Delta t$ in your program.  How large can you make $\\Delta t$ before the calculated values become inconsistent with the Energy Principle?  What do you observe in your graphs that indicates $\\Delta t$ is too large?\n",
    "\n",
    "### Energy vs. Separation\n",
    "\n",
    "* Plot energy vs. separation instead of time.  It is useful to add `dot`=True  to the constructor for each `gcurve`  -- this adds a moving dot to the graph, so you can see where plotting is occurring on a repetitive graph.\n",
    "* Explain the shape of each of the graphs.  Do they differ from your predictions?  \n",
    "* What do you observe if you make $\\Delta t$ too large?"
   ]
  },
  {
   "cell_type": "markdown",
   "metadata": {},
   "source": [
    "\n",
    "## Including the Moon \n",
    "\n",
    "\n",
    "* Set the mass of the Moon back to the correct mass.  Adjust the initial velocity of the spacecraft to produce a **figure-eight** type orbit.\n",
    "* Revert to plotting energy vs. time.  Calculate and graph the following quantities as a function of time:  kinetic energy, potential energy, and the sum of kinetic and potential energy.   Omit the potential energy associated with the Earth-Moon interaction, which is large and constant, and makes it difficult to see other effects.\n",
    "* Explain the resulting graphs."
   ]
  },
  {
   "cell_type": "code",
   "execution_count": 1,
   "metadata": {
    "collapsed": false
   },
   "outputs": [
    {
     "data": {
      "application/javascript": [
       "require.undef(\"nbextensions/vpython_libraries/jquery-ui.custom.min\");"
      ],
      "text/plain": [
       "<IPython.core.display.Javascript object>"
      ]
     },
     "metadata": {},
     "output_type": "display_data"
    },
    {
     "data": {
      "application/javascript": [
       "require.undef(\"nbextensions/vpython_libraries/glow.2.1.min\");"
      ],
      "text/plain": [
       "<IPython.core.display.Javascript object>"
      ]
     },
     "metadata": {},
     "output_type": "display_data"
    },
    {
     "data": {
      "application/javascript": [
       "require.undef(\"nbextensions/vpython_libraries/glowcomm\");"
      ],
      "text/plain": [
       "<IPython.core.display.Javascript object>"
      ]
     },
     "metadata": {},
     "output_type": "display_data"
    },
    {
     "data": {
      "application/javascript": [
       "require([\"nbextensions/vpython_libraries/jquery-ui.custom.min\"], function(){console.log(\"JQUERY LOADED\");})"
      ],
      "text/plain": [
       "<IPython.core.display.Javascript object>"
      ]
     },
     "metadata": {},
     "output_type": "display_data"
    },
    {
     "data": {
      "application/javascript": [
       "require([\"nbextensions/vpython_libraries/glow.2.1.min\"], function(){console.log(\"GLOW LOADED\");})"
      ],
      "text/plain": [
       "<IPython.core.display.Javascript object>"
      ]
     },
     "metadata": {},
     "output_type": "display_data"
    },
    {
     "data": {
      "application/javascript": [
       "require([\"nbextensions/vpython_libraries/glowcomm\"], function(){console.log(\"GLOWCOMM LOADED\");})"
      ],
      "text/plain": [
       "<IPython.core.display.Javascript object>"
      ]
     },
     "metadata": {},
     "output_type": "display_data"
    },
    {
     "data": {
      "text/html": [
       "<div id=\"glowscript\" class=\"glowscript\"></div>"
      ],
      "text/plain": [
       "<IPython.core.display.HTML object>"
      ]
     },
     "metadata": {},
     "output_type": "display_data"
    },
    {
     "data": {
      "application/javascript": [
       "window.__context = { glowscript_container: $(\"#glowscript\").removeAttr(\"id\")}"
      ],
      "text/plain": [
       "<IPython.core.display.Javascript object>"
      ]
     },
     "metadata": {},
     "output_type": "display_data"
    },
    {
     "data": {
      "text/html": [
       "<div id=\"glowscript\" class=\"glowscript\"></div>"
      ],
      "text/plain": [
       "<IPython.core.display.HTML object>"
      ]
     },
     "metadata": {},
     "output_type": "display_data"
    },
    {
     "data": {
      "application/javascript": [
       "window.__context = { glowscript_container: $(\"#glowscript\").removeAttr(\"id\")}"
      ],
      "text/plain": [
       "<IPython.core.display.Javascript object>"
      ]
     },
     "metadata": {},
     "output_type": "display_data"
    }
   ],
   "source": [
    "from vpython import *\n",
    "scene2=canvas(width=600,height=400) # Create a canvas for 3D graphics, align to the left\n",
    "g3=graph(scene=scene2,width=400,height=400,xtitle='t',ytitle='E') # Create a graph for plotting, align to the right\n",
    "gc31=gcurve(graph=g3,color=color.cyan,dot=True) # Plotting data points using gcurve\n",
    "gc32=gcurve(graph=g3,color=color.red,dot=True) # Plotting data points using gcurve\n",
    "gc33=gcurve(graph=g3,color=color.blue,dot=True) # Plotting data points using gcurve"
   ]
  },
  {
   "cell_type": "code",
   "execution_count": null,
   "metadata": {
    "collapsed": false
   },
   "outputs": [],
   "source": [
    "G = 6.7e-11\n",
    "mEarth = 6e24\n",
    "mcraft = 15e3\n",
    "deltat = 100\n",
    "mMoon=7e22\n",
    "\n",
    "Earth = sphere(pos=vector(0,0,0), radius=6.4e6, color=color.cyan)\n",
    "craft = sphere(pos=vector(-10*Earth.radius, 0,0), radius=1e6,\n",
    "               color=color.yellow, make_trail=True)\n",
    "\n",
    "Moon = sphere(pos=vector(4e8,0,0),radius=1.75e6,color=color.red)\n",
    "vcraft = vector(0,3.2735e3 ,0)\n",
    "pcraft = mcraft*vcraft\n",
    "t = 0\n",
    "scene2.autoscale = False ##turn off automatic camera zoom\n",
    "scene2.userzoom=False\n",
    "while t < 365*24*60*60:\n",
    "    rate(1000)   \n",
    "    scene2.center = (Earth.pos + Moon.pos)/2\n",
    "    r=craft.pos-Earth.pos\n",
    "    r2=craft.pos-Moon.pos\n",
    "    f_grav=-G*mEarth*mcraft/r.mag2*r.norm()-G*mMoon*mcraft/r2.mag2*r2.norm()\n",
    "    pcraft+=f_grav*deltat\n",
    "    craft.pos = craft.pos + (pcraft/mcraft)*deltat\n",
    "    \n",
    "    # Kinetic Energy\n",
    "    \n",
    "    # Potential energy\n",
    "    \n",
    "    # Total energy\n",
    "    \n",
    "    # Plotting\n",
    "    \n",
    "    k=1/2*pcraft.mag2/mcraft\n",
    "    \n",
    "    ### Potential Energy\n",
    "    \n",
    "    p=-G*mEarth*mcraft/r.mag-G*mMoon*mcraft/r2.mag\n",
    "\n",
    "    ### Total Energy\n",
    "    \n",
    "    tot=k+p\n",
    "    \n",
    "    ### Plotting\n",
    "    ### Use gc11,gc12,gc13 for E vs t\n",
    "    \n",
    "    gc31.plot(t,k);\n",
    "    gc32.plot(t,p);\n",
    "    gc33.plot(t,tot);\n",
    "\n",
    "    t = t+deltat"
   ]
  },
  {
   "cell_type": "markdown",
   "metadata": {},
   "source": [
    "## STOP! Show your results to a TA \n"
   ]
  },
  {
   "cell_type": "markdown",
   "metadata": {},
   "source": [
    "\n",
    "\n",
    "## Optional:  Different Initial Conditions \n",
    "If you have time, experiment with initial conditions that produce dramatically different orbits.  What do you observe?  Does the same value of $\\Delta t$ work well for all sets of initial conditions?\n",
    "\n",
    "\n"
   ]
  },
  {
   "cell_type": "code",
   "execution_count": null,
   "metadata": {
    "collapsed": true
   },
   "outputs": [],
   "source": []
  }
 ],
 "metadata": {
  "anaconda-cloud": {},
  "kernelspec": {
   "display_name": "VPython",
   "language": "python",
   "name": "vpython"
  },
  "language_info": {
   "codemirror_mode": {
    "name": "ipython",
    "version": 2
   },
   "file_extension": ".py",
   "mimetype": "text/x-python",
   "name": "python",
   "nbconvert_exporter": "python",
   "pygments_lexer": "ipython2",
   "version": "2.7.12"
  }
 },
 "nbformat": 4,
 "nbformat_minor": 1
}
