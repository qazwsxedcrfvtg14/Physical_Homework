{
 "cells": [
  {
   "cell_type": "markdown",
   "metadata": {},
   "source": [
    "# Computer Homework 2\n",
    "\n",
    "\n",
    "## Simulation of Binary Stars\n",
    "\n",
    "The objective of this computer homework is to learn how to simulate a binary-star system  under the gravitational force.\n",
    "\n",
    "\n",
    "Reference: [Jupyter VPython Documentation](http://www.glowscript.org/docs/VPythonDocs/index.html)\n",
    "\n"
   ]
  },
  {
   "cell_type": "markdown",
   "metadata": {},
   "source": [
    "## Binary Stars\n",
    "\n",
    "In this problem we want to use what we learned in `Lab4` and `Lab5` to model the motion of a binary-star system. \n",
    "\n",
    "Consider a binary-star consists of two stars: the Sun ($m_{\\odot}=2\\times 10^{30}$kg), and the other star with half of the mass of the Sun. They are separated by the distance between the Sun and the Earth ($r=1.5\\times 10^11$m). Take into account the gravitational effects of the second star on the Sun. \n",
    "\n",
    "\n",
    "### Useful `vector` attributes\n",
    "\n",
    "A VPython vector `r` has the following attributes:\n",
    "\n",
    " * `r.mag` : norm of `r`\n",
    " * `r.mag2`: square of the norm of `r`\n",
    " * `r.norm`: unit vector along `r`\n",
    "\n",
    "### Simulation 1\n",
    "\n",
    "* Give the second star the speed of the actual Earth, and the Sun zero initial momentum. \n",
    "* Adjust your time step such that you can see the simulation in a resonable speed with reasonable accuracy.\n",
    "* Leave trails of the orbits of both stars.\n",
    "* Make the camara look at the center of mass of the system by adding this statement in the appropriate place: \n",
    "```\n",
    "  scene.center = XXX\n",
    "```\n",
    "where `XXX` is the position of the center of mass. \n",
    "* To make the program run faster you can increase to `rate(1e4)`\n",
    "* Write your simulation code in the code cell below. Comments are added to help you construct the code. \n"
   ]
  },
  {
   "cell_type": "code",
   "execution_count": 1,
   "metadata": {
    "collapsed": false,
    "scrolled": false
   },
   "outputs": [
    {
     "data": {
      "application/javascript": [
       "require.undef(\"nbextensions/jquery-ui.custom.min\");"
      ],
      "text/plain": [
       "<IPython.core.display.Javascript object>"
      ]
     },
     "metadata": {},
     "output_type": "display_data"
    },
    {
     "data": {
      "application/javascript": [
       "require.undef(\"nbextensions/glow.2.1a.min\");"
      ],
      "text/plain": [
       "<IPython.core.display.Javascript object>"
      ]
     },
     "metadata": {},
     "output_type": "display_data"
    },
    {
     "data": {
      "application/javascript": [
       "require.undef(\"nbextensions/glow.2.1b.min\");"
      ],
      "text/plain": [
       "<IPython.core.display.Javascript object>"
      ]
     },
     "metadata": {},
     "output_type": "display_data"
    },
    {
     "data": {
      "application/javascript": [
       "require.undef(\"nbextensions/glowcomm\");"
      ],
      "text/plain": [
       "<IPython.core.display.Javascript object>"
      ]
     },
     "metadata": {},
     "output_type": "display_data"
    },
    {
     "data": {
      "application/javascript": [
       "require([\"nbextensions/glowcomm\"], function(){console.log(\"glowcomm loaded\");})"
      ],
      "text/plain": [
       "<IPython.core.display.Javascript object>"
      ]
     },
     "metadata": {},
     "output_type": "display_data"
    },
    {
     "data": {
      "text/html": [
       "<div id=\"glowscript\" class=\"glowscript\"></div>"
      ],
      "text/plain": [
       "<IPython.core.display.HTML object>"
      ]
     },
     "metadata": {},
     "output_type": "display_data"
    },
    {
     "data": {
      "application/javascript": [
       "window.__context = { glowscript_container: $(\"#glowscript\").removeAttr(\"id\")}"
      ],
      "text/plain": [
       "<IPython.core.display.Javascript object>"
      ]
     },
     "metadata": {},
     "output_type": "display_data"
    },
    {
     "data": {
      "text/html": [
       "<div id=\"glowscript\" class=\"glowscript\"></div>"
      ],
      "text/plain": [
       "<IPython.core.display.HTML object>"
      ]
     },
     "metadata": {},
     "output_type": "display_data"
    },
    {
     "data": {
      "application/javascript": [
       "window.__context = { glowscript_container: $(\"#glowscript\").removeAttr(\"id\")}"
      ],
      "text/plain": [
       "<IPython.core.display.Javascript object>"
      ]
     },
     "metadata": {},
     "output_type": "display_data"
    }
   ],
   "source": [
    "from vpython import *\n",
    "scene=canvas(width=800, height=800)"
   ]
  },
  {
   "cell_type": "code",
   "execution_count": null,
   "metadata": {
    "collapsed": false
   },
   "outputs": [],
   "source": [
    "### Code Cell for Simulation 1\n",
    "\n",
    "# Constants\n",
    "G = 6.7e-11\n",
    "mSun = 2E30   # Sun Mass\n",
    "mStar=0.5*mSun\n",
    "dt = 1000 # time step\n",
    "\n",
    "### Generate Objects \n",
    "\n",
    "Sun= sphere(pos=vector(0,0,0),radius=1e10,color=color.red,make_trail=True)\n",
    "Star= sphere(pos=vector(0,1.5*1e11,0),radius=1e10,make_trail=True)\n",
    "\n",
    "### End\n",
    "scene.autoscale = False ##turn off automatic camera zoom\n",
    "\n",
    "### Initial Conditions\n",
    "vSun=vector(0,0,0)\n",
    "vStar=vector(3*1e4,0,0)\n",
    "#pSun=\n",
    "#pStar=\n",
    "\n",
    "### End \n",
    "\n",
    "# Set the clock\n",
    "t=0 \n",
    "\n",
    "### Main Iteration Loop\n",
    "while t<10*24*60*60*360:\n",
    "#while True:\n",
    "    rate(3*1e3)\n",
    "    f=G*mSun*mStar/(Sun.pos-Star.pos).mag2\n",
    "    vSun+=(Star.pos-Sun.pos).norm()*f/mSun*dt\n",
    "    vStar+=(Sun.pos-Star.pos).norm()*f/mStar*dt\n",
    "    Sun.pos+=vSun*dt\n",
    "    Star.pos+=vStar*dt\n",
    "    ### End\n",
    "    scene.center = (Sun.pos*mSun+Star.pos*mStar)/(mSun+mStar)\n",
    "    t+=dt\n",
    "    "
   ]
  },
  {
   "cell_type": "markdown",
   "metadata": {
    "collapsed": false
   },
   "source": [
    "### Simulation 2\n",
    "\n",
    "* Choose initial conditions such that the total momentum of the two-star system is zero, but the stars are not headed directly at each other. \n"
   ]
  },
  {
   "cell_type": "code",
   "execution_count": 2,
   "metadata": {
    "collapsed": false
   },
   "outputs": [
    {
     "data": {
      "text/html": [
       "<div id=\"glowscript\" class=\"glowscript\"></div>"
      ],
      "text/plain": [
       "<IPython.core.display.HTML object>"
      ]
     },
     "metadata": {},
     "output_type": "display_data"
    },
    {
     "data": {
      "application/javascript": [
       "window.__context = { glowscript_container: $(\"#glowscript\").removeAttr(\"id\")}"
      ],
      "text/plain": [
       "<IPython.core.display.Javascript object>"
      ]
     },
     "metadata": {},
     "output_type": "display_data"
    }
   ],
   "source": [
    "scene2=canvas(width=800, height=800)"
   ]
  },
  {
   "cell_type": "code",
   "execution_count": null,
   "metadata": {
    "collapsed": false
   },
   "outputs": [
    {
     "name": "stdout",
     "output_type": "stream",
     "text": [
      "ERROR! Session/line number was not unique in database. History logging moved to new session 161\n"
     ]
    }
   ],
   "source": [
    "### Code Cell for Simulation 2\n",
    "\n",
    "# Constants\n",
    "G = 6.7e-11\n",
    "mSun = 2E30   # Sun Mass\n",
    "mStar=0.5*mSun\n",
    "dt = 1000 # time step\n",
    "\n",
    "### Generate Objects \n",
    "\n",
    "Sun= sphere(pos=vector(0,0,0),radius=1e10,color=color.red,make_trail=True)\n",
    "Star= sphere(pos=vector(0,1.5*1e11,0),radius=1e10,make_trail=True)\n",
    "\n",
    "### End\n",
    "scene2.autoscale = False ##turn off automatic camera zoom\n",
    "\n",
    "### Initial Conditions\n",
    "vSun=vector(-1*1e4,0,0)\n",
    "vStar=vector(2*1e4,0,0)\n",
    "#pSun=\n",
    "#pStar=\n",
    "\n",
    "### End \n",
    "\n",
    "# Set the clock\n",
    "t=0 \n",
    "\n",
    "### Main Iteration Loop\n",
    "while t<10*24*60*60*360:\n",
    "#while True:\n",
    "    rate(3*1e3)\n",
    "    f=G*mSun*mStar/(Sun.pos-Star.pos).mag2\n",
    "    vSun+=(Star.pos-Sun.pos).norm()*f/mSun*dt\n",
    "    vStar+=(Sun.pos-Star.pos).norm()*f/mStar*dt\n",
    "    Sun.pos+=vSun*dt\n",
    "    Star.pos+=vStar*dt\n",
    "    ### End\n",
    "    scene2.center = (Sun.pos*mSun+Star.pos*mStar)/(mSun+mStar)\n",
    "    t+=dt\n",
    "    "
   ]
  },
  {
   "cell_type": "markdown",
   "metadata": {
    "collapsed": false
   },
   "source": [
    "### Simulation 3 \n",
    "\n",
    "* Give the Sun zero initial momentum. Find the initial velocity of the second star such that two stars will collide. \n",
    "\n",
    "*Hint*: You will find that when the distance bewteen the stars are small, and you lose accuracy in predicting the orbits. You should adjust your time step dynamically such that force stays more or less constant. "
   ]
  },
  {
   "cell_type": "code",
   "execution_count": 3,
   "metadata": {
    "collapsed": false
   },
   "outputs": [
    {
     "data": {
      "text/html": [
       "<div id=\"glowscript\" class=\"glowscript\"></div>"
      ],
      "text/plain": [
       "<IPython.core.display.HTML object>"
      ]
     },
     "metadata": {},
     "output_type": "display_data"
    },
    {
     "data": {
      "application/javascript": [
       "window.__context = { glowscript_container: $(\"#glowscript\").removeAttr(\"id\")}"
      ],
      "text/plain": [
       "<IPython.core.display.Javascript object>"
      ]
     },
     "metadata": {},
     "output_type": "display_data"
    }
   ],
   "source": [
    "scene3=canvas(width=800, height=800)"
   ]
  },
  {
   "cell_type": "code",
   "execution_count": 4,
   "metadata": {
    "collapsed": false
   },
   "outputs": [],
   "source": [
    "### Code Cell for Simulation 3\n",
    "### Code Cell for Simulation 2\n",
    "#from vpython import *\n",
    "#scene2=canvas(width=800, height=800)\n",
    "### Code Cell for Simulation 1\n",
    "\n",
    "# Constants\n",
    "G = 6.7e-11\n",
    "mSun = 2E30   # Sun Mass\n",
    "mStar=0.5*mSun\n",
    "dt = 1000 # time step\n",
    "\n",
    "### Generate Objects \n",
    "\n",
    "Sun= sphere(pos=vector(0,0,0),radius=1e10,color=color.red,make_trail=True)\n",
    "Star= sphere(pos=vector(0,1.5*1e11,0),radius=1e10,make_trail=True)\n",
    "\n",
    "### End\n",
    "scene3.autoscale = False ##turn off automatic camera zoom\n",
    "\n",
    "### Initial Conditions\n",
    "vSun=vector(0,0,0)\n",
    "vStar=vector(3e3,0,0)\n",
    "#pSun=\n",
    "#pStar=\n",
    "\n",
    "### End \n",
    "\n",
    "# Set the clock\n",
    "t=0 \n",
    "\n",
    "### Main Iteration Loop\n",
    "while t<10*24*60*60*100:\n",
    "#while True:\n",
    "    rate(3*1e3)\n",
    "    f=G*mSun*mStar/(Sun.pos-Star.pos).mag2\n",
    "    vSun+=(Star.pos-Sun.pos).norm()*f/mSun*dt\n",
    "    vStar+=(Sun.pos-Star.pos).norm()*f/mStar*dt\n",
    "    Sun.pos+=vSun*dt\n",
    "    Star.pos+=vStar*dt\n",
    "    ### End\n",
    "    scene3.center = (Sun.pos*mSun+Star.pos*mStar)/(mSun+mStar)\n",
    "    t+=dt\n",
    "    "
   ]
  },
  {
   "cell_type": "code",
   "execution_count": null,
   "metadata": {
    "collapsed": true
   },
   "outputs": [],
   "source": []
  },
  {
   "cell_type": "code",
   "execution_count": null,
   "metadata": {
    "collapsed": true
   },
   "outputs": [],
   "source": []
  }
 ],
 "metadata": {
  "anaconda-cloud": {},
  "kernelspec": {
   "display_name": "VPython",
   "language": "python",
   "name": "vpython"
  },
  "language_info": {
   "codemirror_mode": {
    "name": "ipython",
    "version": 2
   },
   "file_extension": ".py",
   "mimetype": "text/x-python",
   "name": "python",
   "nbconvert_exporter": "python",
   "pygments_lexer": "ipython2",
   "version": "2.7.12"
  }
 },
 "nbformat": 4,
 "nbformat_minor": 1
}
