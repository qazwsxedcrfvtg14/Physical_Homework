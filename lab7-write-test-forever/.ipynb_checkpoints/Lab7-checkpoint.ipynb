{
 "cells": [
  {
   "cell_type": "markdown",
   "metadata": {},
   "source": [
    "#  A Spring-Mass System: Part 1\n",
    "\n",
    "## Objective\n",
    "\n",
    "We have seen that masses connected by springs are a good model for many physical systems.  Before doing this activity you should have read Sections 2.6, 2.7, and 4.12 of the *Matter and Interactions, 4e* textbook. If you have not yet studied Section 5.6, you may omit the second item in part 5 of this activity.\n",
    "\n",
    "After completing this activity you should be able to:\n",
    "\n",
    "* Explain how varying the mass of an oscillator affects the period of the system\n",
    "* Explain how varying the spring stiffness affects the period of the system\n",
    "* Explain what initial conditions are needed to produce oscillations in 3D (not in a line or a plane)\n",
    "\n",
    "\n",
    "*This notebook is adopted from the Lab VP07 materials from Matter & Interactions 4e* \n",
    "\n",
    "Reference: [Jupyter VPython Documentation](http://www.glowscript.org/docs/VPythonDocs/index.html)\n",
    "\n"
   ]
  },
  {
   "cell_type": "code",
   "execution_count": 3,
   "metadata": {
    "collapsed": false
   },
   "outputs": [
    {
     "data": {
      "text/html": [
       "<div id=\"glowscript\" class=\"glowscript\"></div>"
      ],
      "text/plain": [
       "<IPython.core.display.HTML object>"
      ]
     },
     "metadata": {},
     "output_type": "display_data"
    },
    {
     "data": {
      "application/javascript": [
       "window.__context = { glowscript_container: $(\"#glowscript\").removeAttr(\"id\")}"
      ],
      "text/plain": [
       "<IPython.core.display.Javascript object>"
      ]
     },
     "metadata": {},
     "output_type": "display_data"
    }
   ],
   "source": [
    "from vpython import *\n",
    "scene=canvas(width=400,height=600,align='left',title='Click to start') # Create a canvas for 3D graphics, align to the left\n",
    "g=graph(width=400,height=400,align='right') # Create a graph for plotting, align to the right\n",
    "gc=gcurve(graph=g,color=color.cyan) # Plotting data points using gcurve"
   ]
  },
  {
   "cell_type": "markdown",
   "metadata": {},
   "source": [
    "## Explain and Predict\n",
    "Study the following VPython program carefully. Make sure you understand the whole program, but don't run the program yet. Reading and explaining program code is an important part of learning to create and modify computational models."
   ]
  },
  {
   "cell_type": "code",
   "execution_count": null,
   "metadata": {
    "collapsed": false
   },
   "outputs": [],
   "source": [
    "## constants and data\n",
    "g = 9.8\n",
    "mball = 0.03\n",
    "L0 = 0.26\n",
    "ks = 1.8\n",
    "deltat = .01\n",
    "## objects (origin is at ceiling)\n",
    "ceiling = box(pos=vector(0,0,0), length=0.2, height=0.01, width=0.2) \n",
    "ball = sphere(pos=vector(0.2,-0.3,0.1), radius=0.025,\n",
    "              color=color.orange,make_trail=True,interval=1, retain=150)\n",
    "spring = helix(pos=ceiling.pos, axis=ball.pos-ceiling.pos,\n",
    "               color=color.cyan, thickness=.003, coils=40, radius=0.010)\n",
    "## initial values\n",
    "pball = mball*vector(-0.3,0,0.5)\n",
    "Fgrav = mball*g*vector(0,-1,0)\n",
    "t = 0\n",
    "## improve the display\n",
    "scene.autoscale = False          ## turn off automatic camera zoom\n",
    "scene.userzoom = False           ## turn off user zoom\n",
    "scene.center = vector(0,-L0,0)   ## move camera down \n",
    "while True:\n",
    "    scene.waitfor('click')           ## wait for a mouse click\n",
    "    ## calculation loop\n",
    "    t=0\n",
    "    while t <10:\n",
    "        rate(100)\n",
    "        Fnet = Fgrav-10*(ball.pos-ceiling.pos).norm()*(ball.pos.mag-L0)\n",
    "        pball = pball + Fnet*deltat\n",
    "        ball.pos = ball.pos + (pball/mball)*deltat\n",
    "        spring.axis = ball.pos - ceiling.pos\n",
    "        gc.plot(t,ball.pos.y)\n",
    "        t = t + deltat\n"
   ]
  },
  {
   "cell_type": "code",
   "execution_count": 3,
   "metadata": {
    "collapsed": true
   },
   "outputs": [],
   "source": []
  },
  {
   "cell_type": "markdown",
   "metadata": {},
   "source": [
    "**Without running the program**, answer the following questions:\n",
    "\n",
    "* What is the physical system being modeled? \n",
    "* In the real world, how should this system behave? On the left side of your whiteboard or paper, draw a sketch showing how you think the objects should move in the real world. \n",
    "* Will the program as it is now written accurately model the real system?\n",
    "* On a piece of paper, draw a sketch of how the objects created in the program will move on the screen, based on your interpretation of the code.\n"
   ]
  },
  {
   "cell_type": "markdown",
   "metadata": {},
   "source": [
    "## STOP! Ask a TA to check your progress\n"
   ]
  },
  {
   "cell_type": "markdown",
   "metadata": {},
   "source": [
    "## Modify the Model\n",
    "\n",
    "Now run the program.  What, if anything, is missing from the program?  \n",
    "\n",
    "* Modify the program so it is an accurate model of a spring-mass system.  \n",
    "* How can you tell that the model is correct?\n"
   ]
  },
  {
   "cell_type": "markdown",
   "metadata": {},
   "source": [
    "### Add Graph\n",
    "Modify your program to [graph](#graph) the $y$-component of the ball's position as a function of time. \n",
    "*  Why doesn't the graph cross zero?\n",
    "*  What is the period of the oscillations shown on the graph? (You will find it easier to read the period off the graph if you change the `while` statement to make the program quit after a small number of oscillations.  Note that you can use the mouse to drag crosshairs on a graph.)\n",
    "*  What does the analytical solution for a spring-mass oscillator predict for the period?\n",
    "*  Should these numbers be the same?  If they are not, why not?\n",
    "*  Make the mass 4 times bigger.  What is the new period?  Does this agree with theory? (Afterwards, reset the mass to its original value.)\n",
    "*  Make the spring stiffness 4 times bigger. What is the new period?  Does this agree with theory? (Afterwards, reset the spring stiffness to its original value.)\n",
    "*  Make the amplitude twice as big. (How?)  What is the new period? Does this agree with theory? (Afterwards, reset the amplitude to its original value.)\n",
    "*  How would this system behave on the Moon?  Set $g$ to 1.6 and determine the period of the system.  How does it compare to the period of the system on the Earth?  Why?\n",
    "*  If you have made experimental measurements using a real spring-mass system, use your own values for mass and spring stiffness in your program, and compare the period predicted by the model to the value you measured.\n",
    "\n"
   ]
  },
  {
   "cell_type": "markdown",
   "metadata": {},
   "source": [
    "<a id='graph'></a>\n",
    "\n",
    "### Note: Graphing in VPython\n",
    "In the initialization stage of the code, we defined a `graph` called `g`, and create a `gcurve` plot called `gc` in `g`. \n",
    "```\n",
    "g=graph(width=400,height=400,align='right') # Create a graph for plotting, align to the right\n",
    "gc=gcurve(graph=g,color=color.cyan) # Plotting data points using gcurve\n",
    "```\n",
    "To plot on the `gcurve` plot `gc`, we issue the command `gc.plot([x,y])`, where `[x,y]` corresponds to the datapoint. You can also plot several data points in one command `gc.plot([x1,y1],[x2,y2]...)`. \n",
    "\n",
    "\n",
    "See [Graph Documentation](http://www.glowscript.org/docs/VPythonDocs/graph.html) for details. \n"
   ]
  },
  {
   "cell_type": "markdown",
   "metadata": {},
   "source": [
    "## STOP! Ask a TA to check your progress\n"
   ]
  },
  {
   "cell_type": "markdown",
   "metadata": {},
   "source": [
    "## Challenge: 3D Oscillations\n",
    "\n",
    "* Modify the program so the ball leaves a trail as it moves. To do this, set the attribute `make_trail` to `True` in the constructor for the ball, like this:\n",
    "\n",
    "```\n",
    "ball = sphere(pos=vector(0,-0.3,0), radius=0.025,\n",
    "              color=color.orange, make_trail=True)\n",
    "```\n",
    "\n",
    "* Find initial conditions that produce oscillations not confined to a single plane.  To make sure the path traced out by the ball does not lie in a line or a plane, rotate the display and examine the trail left by the ball.\n"
   ]
  },
  {
   "cell_type": "markdown",
   "metadata": {},
   "source": [
    "## Add Arrows\n",
    "\n",
    "\n",
    "*  Add two arrows that move with the ball: one representing the net force on the ball, and the other representing the ball's momentum.  Do these arrows always point in the same direction? \t\n",
    "* If you have completed Section 5.6 of *Matter and Interactions, 4e*, replace the arrow representing the net force on the ball with two arrows representing $\\vec{F}_{\\parallel}$ and $\\vec{F}_{\\perp}$, the components of the net force that are parallel and perpendicular to the ball's momentum.\n",
    "\n",
    "\n"
   ]
  },
  {
   "cell_type": "code",
   "execution_count": null,
   "metadata": {
    "collapsed": true
   },
   "outputs": [],
   "source": []
  }
 ],
 "metadata": {
  "anaconda-cloud": {},
  "kernelspec": {
   "display_name": "VPython",
   "language": "python",
   "name": "vpython"
  },
  "language_info": {
   "codemirror_mode": {
    "name": "ipython",
    "version": 2
   },
   "file_extension": ".py",
   "mimetype": "text/x-python",
   "name": "python",
   "nbconvert_exporter": "python",
   "pygments_lexer": "ipython2",
   "version": "2.7.12"
  }
 },
 "nbformat": 4,
 "nbformat_minor": 1
}
