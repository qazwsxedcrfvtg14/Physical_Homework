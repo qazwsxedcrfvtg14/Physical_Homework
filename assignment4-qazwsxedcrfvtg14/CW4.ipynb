{
 "cells": [
  {
   "cell_type": "markdown",
   "metadata": {},
   "source": [
    "# Computer Homework 4\n",
    "\n",
    "## Simulation of the Solar System\n",
    "\n",
    "The objective of this computer homework is to learn how to simulate the motion of Mars and Earth around the Sun. \n",
    "\n",
    "### Python data structures and statements covered in this HW\n",
    "\n",
    "* Data Structure:\n",
    "    * `dictionary`\n",
    "* Statement:\n",
    "    * `def`\n",
    "\n",
    "References: \n",
    "* [Jupyter VPython Documentation](http://www.glowscript.org/docs/VPythonDocs/index.html)\n",
    "* [Think Python: How to Think Like a Computer Scientist](http://greenteapress.com/thinkpython2/html/index.html)\n",
    "           \n",
    "\n"
   ]
  },
  {
   "cell_type": "markdown",
   "metadata": {},
   "source": [
    "## Python tutorial\n",
    "\n",
    "### Dictionary \n",
    "\n",
    "A *dictionary* is a key‐to‐value mapping data type. This is can be regarded as a *hashtable*. \n",
    "\n",
    "Here are ways to construct a dictionary in Python,\n",
    "\n",
    "```\n",
    "d1 = {1:'a', 2:'b'}\n",
    "d2 = dict(1='a', 2='b')\n",
    "d3 = {}; d3[1] = 'a'; d3[2]='b'\n",
    "```\n",
    "`d1`, `d2`, and `d3` are the same dictionary generated in different ways. \n",
    "In this example, `1`, `2` are the **keys** of the dictionary, and `'a'`,`'b'` are the **values**. \n",
    "One can use retrieve data from a dictionary by giving a key. \n",
    "\n",
    "The usual operation is shown in below:\n",
    "```\n",
    "d = {\"earth\":1, \"mars\":2, \"halley\":3} \n",
    "print(d)\n",
    "print(d[\"earth\"])\n",
    "d[\"sun\"] = \"s\"\n",
    "print(d)\n",
    "del d[\"earth\"] \n",
    "print(d)\n",
    "print(\"earth\" in d) \n",
    "print(\"earth\" not in d) \n",
    "print(len(d))\n",
    "```\n",
    "\n",
    "Statement      | Action  \n",
    "-------------- | ----------------------------------------------------\n",
    "`d[key]`       | gets the value stored in `d` at index `key`        \n",
    "`d[key]= value`| sets `d`’s value at index `key` as value          \n",
    "`key in d`     | gives `True` if `key` is in `d`, else gives `False`\n",
    "`key not in d` | gives `True` if `key` is not in `d`, else gives `False`\n",
    "`len(d)`       | gives the number of stored data in `d`             \n",
    "`dict.copy()`  | return a complete copy of `dict`                   \n",
    "\n",
    "\n",
    "Notice that the keys in a dictionary must be **immutable**, so `str`, `int` or `tuple` can be used as keys, but `list` can not.\n",
    "\n",
    "Further information see: [Dictionaries](http://greenteapress.com/thinkpython2/html/thinkpython2012.html)"
   ]
  },
  {
   "cell_type": "code",
   "execution_count": null,
   "metadata": {
    "collapsed": false
   },
   "outputs": [],
   "source": [
    "d = {\"earth\":1, \"mars\":2, \"halley\":3} \n",
    "print(d)\n",
    "print(d[\"earth\"])\n",
    "d[\"sun\"] = \"s\"\n",
    "print(d)\n",
    "del d[\"earth\"] \n",
    "print(d)\n",
    "print(\"earth\" in d) \n",
    "print(\"earth\" not in d) \n",
    "print(len(d))"
   ]
  },
  {
   "cell_type": "markdown",
   "metadata": {},
   "source": [
    "We can retreive key-value pairs by  iterate through a dictionary as"
   ]
  },
  {
   "cell_type": "code",
   "execution_count": null,
   "metadata": {
    "collapsed": false
   },
   "outputs": [],
   "source": [
    "for i,j in d.items():\n",
    "    print(i,j)"
   ]
  },
  {
   "cell_type": "markdown",
   "metadata": {},
   "source": [
    "### Function \n",
    "\n",
    "Sometimes we find in our program that similar sequences of statements occur several times, and they only differ in the  parameters supplied. In programming, we usually define a `function` to collect the sequence of statements, and call this `function` in the program with different parameters. \n",
    "\n",
    "The syntax to define a function in Python is like this example, where `area` calculates the area of a rectangle:\n",
    "```\n",
    "def area(a,b):\n",
    "    c=a*b\n",
    "    return c\n",
    "\n",
    "```\n",
    "\n",
    "If there is no `return` statement, the function will return `None`. \n",
    "\n",
    "When you create a variable inside a function, it is **local**, which means that it only exists inside the function. \n",
    "\n",
    "Further information see: [Functions](http://greenteapress.com/thinkpython2/html/thinkpython2004.html)"
   ]
  },
  {
   "cell_type": "code",
   "execution_count": null,
   "metadata": {
    "collapsed": false
   },
   "outputs": [],
   "source": [
    "def area(a,b):\n",
    "    c=a*b\n",
    "    return c\n",
    "\n",
    "area(3,4)\n"
   ]
  },
  {
   "cell_type": "markdown",
   "metadata": {},
   "source": [
    "## Problem 1\n",
    "\n",
    "### Collect Data\n",
    "\n",
    "* Construct a dictionary `mass` that contains the masses of `sun`, `earth`, and `mars`. \n",
    "\n",
    "* Constract a dictionary `radius` that contains the radii of `sun`, `earth`, and `mars`.\n",
    "\n",
    "* Construct a dictionary `d_at_peri` that contains the distances  `earth` and `mars` relative to the sun, respectively, when they are at the perihelion. \n",
    "\n",
    "* Construct a dictionary `semimajor` that contains the semi-major axes of `earth` ane `mars` orbits. \n",
    "Google to find these values.\n",
    "\n",
    "* Construct a dictionary `v_at_peri` that contain  the velocities of `earth` and `mars` relative to the sun, respectively, when they are at the perihelion. \n",
    "\n",
    " \n",
    "One can calculate the perihelion velocities using the formula for the velocity of an object at some distance `r` from the Sun:\n",
    "\n",
    "$$ v^2 = G M (2/r - 1/a)$$\n",
    "\n",
    "Where `G` is the universal gravitational constant, `M` is the mass of the Sun, and `a` is the planet's semimajor axis.\n",
    "\n"
   ]
  },
  {
   "cell_type": "code",
   "execution_count": 1,
   "metadata": {
    "collapsed": false
   },
   "outputs": [],
   "source": [
    "G = 6.7e-11\n",
    "mass={\"sun\":2e30,\"earth\":6e24,\"mars\":6e23} \n",
    "radius={\"sun\":1.392e9,\"earth\":6.371e6,\"mars\":3.389e6} \n",
    "d_at_peri={\"sun\":0,\"earth\":1.47095e11,\"mars\":2.066e11} \n",
    "semimajor={\"sun\":0,\"earth\":1.49598023e11,\"mars\":2.2793664e11}\n",
    "def vap(s):\n",
    "    return sqrt(G*mass[\"sun\"]*(2.0/d_at_peri[s]-1.0/semimajor[s]))\n",
    "v_at_peri={\"sun\":0,\"earth\":vap(\"earth\"),\"mars\":vap(\"mars\")}"
   ]
  },
  {
   "cell_type": "markdown",
   "metadata": {},
   "source": [
    "### Define  functions\n",
    "\n",
    "### Force \n",
    "Construct a function `F_grav(m, r_pos)` that returns the force vector exerted on an object of mass `m` by the sun when it is at `r_pos`. Test your function for the earth when `r_pos= vector(d_at_peri['earth'], 0, 0)` in `F_grav(mass['earth'], r_pos)`."
   ]
  },
  {
   "cell_type": "code",
   "execution_count": 2,
   "metadata": {
    "collapsed": false
   },
   "outputs": [],
   "source": [
    "def F_grav(m,r_pos):\n",
    "    return -G*mass[\"sun\"]*m/(r_pos.mag2)*(r_pos.norm())"
   ]
  },
  {
   "cell_type": "markdown",
   "metadata": {},
   "source": [
    "### Potential energy\n",
    "Now construct a function `U_grav(m,r)`  that returns the potential energy between an object of mass `m` and the sun when they are separated by distance `r`\n"
   ]
  },
  {
   "cell_type": "code",
   "execution_count": 3,
   "metadata": {
    "collapsed": true
   },
   "outputs": [],
   "source": [
    "def U_grav(m,r):\n",
    "    return -G*mass[\"sun\"]*m/r.mag"
   ]
  },
  {
   "cell_type": "markdown",
   "metadata": {},
   "source": [
    "### Kinetic energy\n",
    "Now construct a function `E_k(m,v)`  that returns the kinetic energy of an object of mass `m` with velocity `v`. Assume $v\\ll c$.\n"
   ]
  },
  {
   "cell_type": "code",
   "execution_count": 4,
   "metadata": {
    "collapsed": true
   },
   "outputs": [],
   "source": [
    "def E_k(m,v):\n",
    "    return 1.0/2*m*v.mag2"
   ]
  },
  {
   "cell_type": "markdown",
   "metadata": {
    "collapsed": true
   },
   "source": [
    "## Problem 2\n",
    "Assuming Sun is fixed and neglecting the interaction between  Earth and Mars, simulate the orbits of Earth and Mars with initial positions at perihelion and initial velocities given by `v_at_peri`.  \n",
    "\n",
    "** Note **: To make the objects visiable, we set the Sun radius by 10 times, and the planet radii by 300 times.\n",
    "* Numerically determine the periods of Earth and Mars, and compute $T^3/a^2$ for each planet, where $T$ is the period and $a$ is the semi-major axis. \n",
    "* Numerically compute the work done on Earth by the gravtiational force for 3 Earth year. Plot work done on Earth $W$,  changes in kinetic energy $\\Delta K=K_f-K_i$ and potential energy $\\Delta U=U_f-U_i$ of Earth as a function of time. \n",
    "* Do the same for Mars.\n",
    "\n",
    "    \n",
    "** Note **: position and velocity are both vector, while  `d_at_peri` and `v_at_peri` store numbers. \n",
    "\n",
    "** Hint ** : You need to approximate work by adding up amount of work done by gravitational force along each step of the path:\n",
    "$$ W=\\sum \\vec{F}\\cdot \\Delta \\vec{r} = \\vec{F}_1\\cdot \\Delta \\vec{r}_1 + \\vec{F}_2\\cdot \\Delta \\vec{r}_2 +\\cdots $$\n"
   ]
  },
  {
   "cell_type": "code",
   "execution_count": 3,
   "metadata": {
    "collapsed": false,
    "scrolled": true
   },
   "outputs": [
    {
     "data": {
      "text/html": [
       "<div id=\"glowscript\" class=\"glowscript\"></div>"
      ],
      "text/plain": [
       "<IPython.core.display.HTML object>"
      ]
     },
     "metadata": {},
     "output_type": "display_data"
    },
    {
     "data": {
      "application/javascript": [
       "window.__context = { glowscript_container: $(\"#glowscript\").removeAttr(\"id\")}"
      ],
      "text/plain": [
       "<IPython.core.display.Javascript object>"
      ]
     },
     "metadata": {},
     "output_type": "display_data"
    }
   ],
   "source": [
    "import math\n",
    "G = 6.7e-11\n",
    "mass={\"sun\":2e30,\"earth\":6e24,\"mars\":6e23} \n",
    "radius={\"sun\":1.392e9,\"earth\":6.371e6,\"mars\":3.389e6} \n",
    "d_at_peri={\"sun\":0,\"earth\":1.47095e11,\"mars\":2.066e11} \n",
    "semimajor={\"sun\":0,\"earth\":1.49598023e11,\"mars\":2.2793664e11}\n",
    "def vap(s):\n",
    "    return math.sqrt(G*mass[\"sun\"]*(2.0/d_at_peri[s]-1.0/semimajor[s]))\n",
    "v_at_peri={\"sun\":0,\"earth\":vap(\"earth\"),\"mars\":vap(\"mars\")}\n",
    "def F_grav(m,r_pos):\n",
    "    return -G*mass[\"sun\"]*m/(r_pos.mag2)*(r_pos.norm())\n",
    "def U_grav(m,r):\n",
    "    return -G*mass[\"sun\"]*m/r.mag\n",
    "def E_k(m,v):\n",
    "    return 1.0/2*m*v.mag2\n",
    "from vpython import *\n",
    "scene=canvas(height=600,width=800)\n",
    "g1=graph(scene=scene,width=400,height=200,ytitle='E',xtitle='t') # Create a graph for plotting\n",
    "gc11=gcurve(graph=g1,color=color.cyan,dot=True) \n",
    "gc12=gcurve(graph=g1,color=color.red,dot=True) \n",
    "gc13=gcurve(graph=g1,color=color.blue,dot=True) \n",
    "\n",
    "g2=graph(scene=scene,width=400,height=200,ytitle='E',xtitle='t') # Create a graph for plotting\n",
    "gc21=gcurve(graph=g2,color=color.cyan,dot=True)\n",
    "gc22=gcurve(graph=g2,color=color.red,dot=True)\n",
    "gc23=gcurve(graph=g2,color=color.blue,dot=True)"
   ]
  },
  {
   "cell_type": "code",
   "execution_count": 4,
   "metadata": {
    "collapsed": false
   },
   "outputs": [
    {
     "name": "stdout",
     "output_type": "stream",
     "text": [
      "31406000\n",
      "59067500\n",
      "1.384159604841108\n",
      "3.966591580843425\n",
      "2.946101397832946e-19\n",
      "2.9461493148813917e-19\n"
     ]
    }
   ],
   "source": [
    "\n",
    "Sun=sphere(radius=10*radius['sun'],pos=vec(0,0,0),color=color.yellow)\n",
    "Earth=sphere(radius=300*radius['earth'],pos=vec(d_at_peri['earth'],0,0),color=color.green,\n",
    "                make_trail=True)\n",
    "Mars=sphere(radius=300*radius['mars'],pos=vec(d_at_peri['mars'],0,0),color=color.orange,  \n",
    "           make_trail=True)\n",
    "\n",
    "scene.userzoom=False\n",
    "### Define Initial Values, etc. \n",
    "Earth.v=vector(0,-v_at_peri['earth'],0)\n",
    "Earth.init_pos=vector(Earth.pos)\n",
    "#print((Earth.init_pos-Earth.pos).mag2)\n",
    "#print(Earth.init_pos)\n",
    "Earth.m=mass['earth']\n",
    "Earth.T=0\n",
    "Earth.Ki=E_k(Earth.m,Earth.v)\n",
    "Earth.Ui=U_grav(Earth.m,Earth.pos)\n",
    "Earth.W=0\n",
    "Mars.v=vector(0,-v_at_peri['mars'],0)\n",
    "Mars.init_pos=vector(Mars.pos)\n",
    "Mars.m=mass['mars']\n",
    "Mars.T=0\n",
    "Mars.Ki=E_k(Mars.m,Mars.v)\n",
    "Mars.Ui=U_grav(Mars.m,Mars.pos)\n",
    "Mars.W=0\n",
    "t=0\n",
    "dt=500\n",
    "\n",
    "while t<365*24*60*60*3:\n",
    "    rate(5000)\n",
    "### Your simulation\n",
    "    Earth.F=F_grav(Earth.m,Earth.pos)\n",
    "    Earth.v+=Earth.F/Earth.m*dt\n",
    "    Earth.old_pos=vector(Earth.pos)\n",
    "    Earth.pos+=Earth.v*dt\n",
    "    Mars.F=F_grav(Mars.m,Mars.pos)\n",
    "    Mars.v+=Mars.F/Mars.m*dt\n",
    "    Mars.old_pos=vector(Mars.pos)\n",
    "    Mars.pos+=Mars.v*dt\n",
    "    Earth.W+=Earth.F.dot(Earth.pos-Earth.old_pos)\n",
    "    Mars.W+=Mars.F.dot(Mars.pos-Mars.old_pos)\n",
    "    gc11.plot(t,E_k(Earth.m,Earth.v)-Earth.Ki)\n",
    "    gc12.plot(t,U_grav(Earth.m,Earth.pos)-Earth.Ui)\n",
    "    gc13.plot(t,Earth.W)\n",
    "    gc21.plot(t,E_k(Mars.m,Mars.v)-Mars.Ki)\n",
    "    gc22.plot(t,U_grav(Mars.m,Mars.pos)-Mars.Ui)\n",
    "    gc23.plot(t,Mars.W)\n",
    "    t+=dt\n",
    "    if(Earth.init_pos-Earth.pos).mag2<1e14 and t>10000 and Earth.T==0:\n",
    "        Earth.T=t\n",
    "    if(Mars.init_pos-Mars.pos).mag2<1e14 and t>10000 and Mars.T==0:\n",
    "        Mars.T=t\n",
    "print(Earth.T)\n",
    "print(Mars.T)\n",
    "print((Earth.T**3)/(semimajor['earth']**2))\n",
    "print((Mars.T**3)/(semimajor['mars']**2))\n",
    "print((Earth.T**2)/(semimajor['earth']**3))\n",
    "print((Mars.T**2)/(semimajor['mars']**3))"
   ]
  },
  {
   "cell_type": "code",
   "execution_count": null,
   "metadata": {
    "collapsed": true
   },
   "outputs": [],
   "source": []
  }
 ],
 "metadata": {
  "anaconda-cloud": {},
  "kernelspec": {
   "display_name": "Python 2",
   "language": "python",
   "name": "python2"
  },
  "language_info": {
   "codemirror_mode": {
    "name": "ipython",
    "version": 2
   },
   "file_extension": ".py",
   "mimetype": "text/x-python",
   "name": "python",
   "nbconvert_exporter": "python",
   "pygments_lexer": "ipython2",
   "version": "2.7.12"
  }
 },
 "nbformat": 4,
 "nbformat_minor": 1
}
